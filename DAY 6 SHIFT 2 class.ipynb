{
 "cells": [
  {
   "cell_type": "code",
   "execution_count": 16,
   "source": [
    "class Student:\n",
    "    name=\"amit\"\n",
    "    marks=78\n",
    "s=Student()\n",
    "print(s.name,s.marks)    "
   ],
   "outputs": [
    {
     "output_type": "stream",
     "name": "stdout",
     "text": [
      "amit 78\n"
     ]
    }
   ],
   "metadata": {}
  },
  {
   "cell_type": "code",
   "execution_count": 17,
   "source": [
    "#constructor\n",
    "class Student:\n",
    "    def __init__(self):\n",
    "        print(\"this is a constructor\")\n",
    "    \n",
    "s=Student()\n",
    "s2=Student()\n",
    "s2=Student()\n",
    "   "
   ],
   "outputs": [
    {
     "output_type": "stream",
     "name": "stdout",
     "text": [
      "this is a constructor\n",
      "this is a constructor\n",
      "this is a constructor\n"
     ]
    }
   ],
   "metadata": {}
  },
  {
   "cell_type": "code",
   "execution_count": 18,
   "source": [
    "#constructor\n",
    "class Student:\n",
    "    def __init__(self):\n",
    "        self.name=\"john\"\n",
    "        self.age=23\n",
    "    \n",
    "s=Student()\n",
    "s2=Student()\n",
    "s2=Student()\n",
    "print(s.name,s.age)\n",
    "   "
   ],
   "outputs": [
    {
     "output_type": "stream",
     "name": "stdout",
     "text": [
      "john 23\n"
     ]
    }
   ],
   "metadata": {}
  },
  {
   "cell_type": "code",
   "execution_count": 20,
   "source": [
    "#constructor\n",
    "class Student:\n",
    "    def __init__(self,n,a):\n",
    "        self.name=n\n",
    "        self.age=a\n",
    "    \n",
    "s=Student(\"john\",25)\n",
    "s2=Student()\n",
    "s2=Student()\n",
    "print(s.name,s.age)\n",
    "   "
   ],
   "outputs": [
    {
     "output_type": "error",
     "ename": "TypeError",
     "evalue": "Student.__init__() missing 2 required positional arguments: 'n' and 'a'",
     "traceback": [
      "\u001b[0;31m---------------------------------------------------------------------------\u001b[0m",
      "\u001b[0;31mTypeError\u001b[0m                                 Traceback (most recent call last)",
      "Cell \u001b[0;32mIn[20], line 8\u001b[0m\n\u001b[1;32m      5\u001b[0m         \u001b[39mself\u001b[39m\u001b[39m.\u001b[39mage\u001b[39m=\u001b[39ma\n\u001b[1;32m      7\u001b[0m s\u001b[39m=\u001b[39mStudent(\u001b[39m\"\u001b[39m\u001b[39mjohn\u001b[39m\u001b[39m\"\u001b[39m,\u001b[39m25\u001b[39m)\n\u001b[0;32m----> 8\u001b[0m s2\u001b[39m=\u001b[39mStudent()\n\u001b[1;32m      9\u001b[0m s2\u001b[39m=\u001b[39mStudent()\n\u001b[1;32m     10\u001b[0m \u001b[39mprint\u001b[39m(s\u001b[39m.\u001b[39mname,s\u001b[39m.\u001b[39mage)\n",
      "\u001b[0;31mTypeError\u001b[0m: Student.__init__() missing 2 required positional arguments: 'n' and 'a'"
     ]
    }
   ],
   "metadata": {}
  },
  {
   "cell_type": "code",
   "execution_count": 21,
   "source": [
    "#constructor\n",
    "class Student:\n",
    "    def __init__(self,n,a):\n",
    "        self.name=n\n",
    "        self.age=a\n",
    "    \n",
    "s=Student(\"john\",25)\n",
    "print(s.name,s.age)\n",
    "   "
   ],
   "outputs": [
    {
     "output_type": "stream",
     "name": "stdout",
     "text": [
      "john 25\n"
     ]
    }
   ],
   "metadata": {}
  },
  {
   "cell_type": "code",
   "execution_count": 23,
   "source": [
    "#constructor\n",
    "class Student:\n",
    "    def __init__(self,n,a):\n",
    "        self.name=n\n",
    "        self.age=a\n",
    "    \n",
    "s=Student(\"john\",25)\n",
    "s2=Student(\"aman\",26)\n",
    "s3=Student(\"rohn\",29)\n",
    "print(s.name,s.age)\n",
    "print(s2.name,s2.age)\n",
    "print(s3.name,s3.age)\n",
    "   "
   ],
   "outputs": [
    {
     "output_type": "stream",
     "name": "stdout",
     "text": [
      "john 25\n",
      "aman 26\n",
      "rohn 29\n"
     ]
    }
   ],
   "metadata": {}
  },
  {
   "cell_type": "code",
   "execution_count": 24,
   "source": [
    "#constructor\n",
    "class Student:\n",
    "    def __init__(self,n,a):\n",
    "        self.name=n\n",
    "        self.age=a\n",
    "    def change_data(self,n):\n",
    "        self.name=n\n",
    "        return self.name\n",
    "\n",
    "    \n",
    "s=Student(\"john\",25)\n",
    "update_name=s.change_data(\"alfred\")\n",
    "print(s.name,s.age)\n",
    "\n",
    "s2=Student(\"aman\",26)\n",
    "s3=Student(\"rohn\",29)\n",
    "print(s2.name,s2.age)\n",
    "print(s3.name,s3.age)\n",
    "   "
   ],
   "outputs": [
    {
     "output_type": "stream",
     "name": "stdout",
     "text": [
      "alfred 25\n",
      "aman 26\n",
      "rohn 29\n"
     ]
    }
   ],
   "metadata": {}
  },
  {
   "cell_type": "code",
   "execution_count": 25,
   "source": [
    "#question\n",
    "class Employee:\n",
    "    def __init__(self):\n",
    "        self.name=\"\"\n",
    "        self.salary=0\n",
    "    def calsal(self,n,s):\n",
    "        self.name=n\n",
    "        self.salary=s\n",
    "        self.cal=s-((0.2//100)*s)\n",
    "        return self.cal\n",
    "ob=Employee()\n",
    "n=input(\"enter employee name\")\n",
    "s=int(input(\"input salary\"))\n",
    "updated_name=ob.calsal(n)\n",
    "updated_salary=ob.calsal(s)\n",
    "print(s.name,\"=\",s.cal)\n",
    "\n",
    "\n",
    "\n",
    "\n",
    ""
   ],
   "outputs": [
    {
     "output_type": "error",
     "ename": "TypeError",
     "evalue": "Employee.calsal() missing 1 required positional argument: 's'",
     "traceback": [
      "\u001b[0;31m---------------------------------------------------------------------------\u001b[0m",
      "\u001b[0;31mTypeError\u001b[0m                                 Traceback (most recent call last)",
      "Cell \u001b[0;32mIn[25], line 14\u001b[0m\n\u001b[1;32m     12\u001b[0m n\u001b[39m=\u001b[39m\u001b[39minput\u001b[39m(\u001b[39m\"\u001b[39m\u001b[39menter employee name\u001b[39m\u001b[39m\"\u001b[39m)\n\u001b[1;32m     13\u001b[0m s\u001b[39m=\u001b[39m\u001b[39mint\u001b[39m(\u001b[39minput\u001b[39m(\u001b[39m\"\u001b[39m\u001b[39minput salary\u001b[39m\u001b[39m\"\u001b[39m))\n\u001b[0;32m---> 14\u001b[0m updated_name\u001b[39m=\u001b[39mob\u001b[39m.\u001b[39;49mcalsal(n)\n\u001b[1;32m     15\u001b[0m updated_salary\u001b[39m=\u001b[39mob\u001b[39m.\u001b[39mcalsal(s)\n\u001b[1;32m     16\u001b[0m \u001b[39mprint\u001b[39m(s\u001b[39m.\u001b[39mname,\u001b[39m\"\u001b[39m\u001b[39m=\u001b[39m\u001b[39m\"\u001b[39m,s\u001b[39m.\u001b[39mcal)\n",
      "\u001b[0;31mTypeError\u001b[0m: Employee.calsal() missing 1 required positional argument: 's'"
     ]
    }
   ],
   "metadata": {}
  },
  {
   "cell_type": "code",
   "execution_count": 26,
   "source": [
    "#question\n",
    "class Employee:\n",
    "    def __init__(self,n,s):\n",
    "        self.name=\"\"\n",
    "        self.salary=0\n",
    "    def calsal(self,n,s):\n",
    "        self.name=n\n",
    "        self.salary=s\n",
    "        self.cal=s-((0.2//100)*s)\n",
    "        return self.cal\n",
    "ob=Employee()\n",
    "n=input(\"enter employee name\")\n",
    "s=int(input(\"input salary\"))\n",
    "updated_name=ob.calsal(n,s)\n",
    "#updated_salary=ob.calsal(s)\n",
    "print(s.name,\"=\",s.cal)\n",
    "\n",
    "\n",
    "\n",
    "\n",
    ""
   ],
   "outputs": [
    {
     "output_type": "error",
     "ename": "TypeError",
     "evalue": "Employee.__init__() missing 2 required positional arguments: 'n' and 's'",
     "traceback": [
      "\u001b[0;31m---------------------------------------------------------------------------\u001b[0m",
      "\u001b[0;31mTypeError\u001b[0m                                 Traceback (most recent call last)",
      "Cell \u001b[0;32mIn[26], line 11\u001b[0m\n\u001b[1;32m      9\u001b[0m         \u001b[39mself\u001b[39m\u001b[39m.\u001b[39mcal\u001b[39m=\u001b[39ms\u001b[39m-\u001b[39m((\u001b[39m0.2\u001b[39m\u001b[39m/\u001b[39m\u001b[39m/\u001b[39m\u001b[39m100\u001b[39m)\u001b[39m*\u001b[39ms)\n\u001b[1;32m     10\u001b[0m         \u001b[39mreturn\u001b[39;00m \u001b[39mself\u001b[39m\u001b[39m.\u001b[39mcal\n\u001b[0;32m---> 11\u001b[0m ob\u001b[39m=\u001b[39mEmployee()\n\u001b[1;32m     12\u001b[0m n\u001b[39m=\u001b[39m\u001b[39minput\u001b[39m(\u001b[39m\"\u001b[39m\u001b[39menter employee name\u001b[39m\u001b[39m\"\u001b[39m)\n\u001b[1;32m     13\u001b[0m s\u001b[39m=\u001b[39m\u001b[39mint\u001b[39m(\u001b[39minput\u001b[39m(\u001b[39m\"\u001b[39m\u001b[39minput salary\u001b[39m\u001b[39m\"\u001b[39m))\n",
      "\u001b[0;31mTypeError\u001b[0m: Employee.__init__() missing 2 required positional arguments: 'n' and 's'"
     ]
    }
   ],
   "metadata": {}
  },
  {
   "cell_type": "code",
   "execution_count": 27,
   "source": [
    "#question\n",
    "class Employee:\n",
    "    def __init__(self):\n",
    "        self.name=\"\"\n",
    "        self.salary=0\n",
    "    def calsal(self,n,s):\n",
    "        self.name=n\n",
    "        self.salary=s\n",
    "        self.cal=s-((0.2//100)*s)\n",
    "        return self.cal\n",
    "ob=Employee()\n",
    "n=input(\"enter employee name\")\n",
    "s=int(input(\"input salary\"))\n",
    "updated_name=ob.calsal(n,s)\n",
    "#updated_salary=ob.calsal(s)\n",
    "print(s.name,\"=\",s.cal)\n",
    "\n",
    "\n",
    "\n",
    "\n",
    ""
   ],
   "outputs": [
    {
     "output_type": "error",
     "ename": "AttributeError",
     "evalue": "'int' object has no attribute 'name'",
     "traceback": [
      "\u001b[0;31m---------------------------------------------------------------------------\u001b[0m",
      "\u001b[0;31mAttributeError\u001b[0m                            Traceback (most recent call last)",
      "Cell \u001b[0;32mIn[27], line 16\u001b[0m\n\u001b[1;32m     14\u001b[0m updated_name\u001b[39m=\u001b[39mob\u001b[39m.\u001b[39mcalsal(n,s)\n\u001b[1;32m     15\u001b[0m \u001b[39m#updated_salary=ob.calsal(s)\u001b[39;00m\n\u001b[0;32m---> 16\u001b[0m \u001b[39mprint\u001b[39m(s\u001b[39m.\u001b[39;49mname,\u001b[39m\"\u001b[39m\u001b[39m=\u001b[39m\u001b[39m\"\u001b[39m,s\u001b[39m.\u001b[39mcal)\n",
      "\u001b[0;31mAttributeError\u001b[0m: 'int' object has no attribute 'name'"
     ]
    }
   ],
   "metadata": {}
  },
  {
   "cell_type": "code",
   "execution_count": 28,
   "source": [
    "#question\n",
    "class Employee:\n",
    "    def __init__(self):\n",
    "        self.name=\"\"\n",
    "        self.salary=0\n",
    "    def calsal(self,n,s):\n",
    "        self.name=n\n",
    "        self.salary=s\n",
    "        self.cal=s-((0.2//100)*s)\n",
    "        return self.cal\n",
    "ob=Employee()\n",
    "n=input(\"enter employee name\")\n",
    "s=int(input(\"input salary\"))\n",
    "updated_name=ob.calsal(n,s)\n",
    "#updated_salary=ob.calsal(s)\n",
    "print(ob.name,\"=\",ob.cal)\n",
    "\n",
    "\n",
    "\n",
    "\n",
    ""
   ],
   "outputs": [
    {
     "output_type": "stream",
     "name": "stdout",
     "text": [
      "palak = 20000.0\n"
     ]
    }
   ],
   "metadata": {}
  },
  {
   "cell_type": "code",
   "execution_count": 29,
   "source": [
    "#question\n",
    "class Employee:\n",
    "    def __init__(self):\n",
    "        self.name=\"\"\n",
    "        self.salary=0\n",
    "    def calsal(self,n,s):\n",
    "        self.name=n\n",
    "        self.salary=s\n",
    "        self.cal=s-((0.2//100)*s)\n",
    "        return self.cal\n",
    "ob=Employee()\n",
    "n=input(\"enter employee name\")\n",
    "s=int(input(\"input salary\"))\n",
    "updated_cal=ob.calsal(n,s)\n",
    "#updated_salary=ob.calsal(s)\n",
    "print(ob.name,\"=\",ob.cal)\n",
    "\n",
    "\n",
    "\n",
    "\n",
    ""
   ],
   "outputs": [
    {
     "output_type": "stream",
     "name": "stdout",
     "text": [
      "palak = 20000.0\n"
     ]
    }
   ],
   "metadata": {}
  },
  {
   "cell_type": "code",
   "execution_count": 30,
   "source": [
    "#question\n",
    "class Employee:\n",
    "    def __init__(self):\n",
    "        self.name=\"\"\n",
    "        self.salary=0\n",
    "        self.cal=0\n",
    "    def calsal(self,n,s):\n",
    "        self.name=n\n",
    "        self.salary=s\n",
    "        self.cal=s-((0.2//100)*s)\n",
    "        return self.cal\n",
    "ob=Employee()\n",
    "n=input(\"enter employee name\")\n",
    "s=int(input(\"input salary\"))\n",
    "updated_cal=ob.calsal(n,s)\n",
    "#updated_salary=ob.calsal(s)\n",
    "print(ob.name,\"=\",ob.cal)\n",
    "\n",
    "\n",
    "\n",
    "\n",
    ""
   ],
   "outputs": [
    {
     "output_type": "stream",
     "name": "stdout",
     "text": [
      "palak = 20000.0\n"
     ]
    }
   ],
   "metadata": {}
  },
  {
   "cell_type": "code",
   "execution_count": 31,
   "source": [
    "#question\n",
    "class Employee:\n",
    "    def __init__(self):\n",
    "        self.name=\"\"\n",
    "        self.salary=0\n",
    "        \n",
    "    def calsal(self,n,s):\n",
    "        self.name=n\n",
    "        self.salary=s\n",
    "        cal=self.salary-((0.2//100)*self.salary)\n",
    "        return cal\n",
    "ob=Employee()\n",
    "n=input(\"enter employee name\")\n",
    "s=int(input(\"input salary\"))\n",
    "updated_p=ob.calsal(n,s)\n",
    "#updated_salary=ob.calsal(s)\n",
    "print(ob.name,\"=\",ob.updated_p)\n",
    "\n",
    "\n",
    "\n",
    "\n",
    ""
   ],
   "outputs": [
    {
     "output_type": "error",
     "ename": "AttributeError",
     "evalue": "'Employee' object has no attribute 'updated_p'",
     "traceback": [
      "\u001b[0;31m---------------------------------------------------------------------------\u001b[0m",
      "\u001b[0;31mAttributeError\u001b[0m                            Traceback (most recent call last)",
      "Cell \u001b[0;32mIn[31], line 17\u001b[0m\n\u001b[1;32m     15\u001b[0m updated_p\u001b[39m=\u001b[39mob\u001b[39m.\u001b[39mcalsal(n,s)\n\u001b[1;32m     16\u001b[0m \u001b[39m#updated_salary=ob.calsal(s)\u001b[39;00m\n\u001b[0;32m---> 17\u001b[0m \u001b[39mprint\u001b[39m(ob\u001b[39m.\u001b[39mname,\u001b[39m\"\u001b[39m\u001b[39m=\u001b[39m\u001b[39m\"\u001b[39m,ob\u001b[39m.\u001b[39;49mupdated_p)\n",
      "\u001b[0;31mAttributeError\u001b[0m: 'Employee' object has no attribute 'updated_p'"
     ]
    }
   ],
   "metadata": {}
  },
  {
   "cell_type": "code",
   "execution_count": 32,
   "source": [
    "#question\n",
    "class Employee:\n",
    "    def __init__(self):\n",
    "        self.name=\"\"\n",
    "        self.salary=0\n",
    "        self.cal=0\n",
    "    def calsal(self,n,s):\n",
    "        self.name=n\n",
    "        self.salary=s\n",
    "        self.cal=self.salary-((0.2//100)*self.salary)\n",
    "        return self.cal\n",
    "ob=Employee()\n",
    "n=input(\"enter employee name\")\n",
    "s=int(input(\"input salary\"))\n",
    "updated_cal=ob.calsal(n,s)\n",
    "#updated_salary=ob.calsal(s)\n",
    "print(ob.name,\"=\",ob.updated_cal)"
   ],
   "outputs": [
    {
     "output_type": "error",
     "ename": "AttributeError",
     "evalue": "'Employee' object has no attribute 'updated_cal'",
     "traceback": [
      "\u001b[0;31m---------------------------------------------------------------------------\u001b[0m",
      "\u001b[0;31mAttributeError\u001b[0m                            Traceback (most recent call last)",
      "Cell \u001b[0;32mIn[32], line 17\u001b[0m\n\u001b[1;32m     15\u001b[0m updated_cal\u001b[39m=\u001b[39mob\u001b[39m.\u001b[39mcalsal(n,s)\n\u001b[1;32m     16\u001b[0m \u001b[39m#updated_salary=ob.calsal(s)\u001b[39;00m\n\u001b[0;32m---> 17\u001b[0m \u001b[39mprint\u001b[39m(ob\u001b[39m.\u001b[39mname,\u001b[39m\"\u001b[39m\u001b[39m=\u001b[39m\u001b[39m\"\u001b[39m,ob\u001b[39m.\u001b[39;49mupdated_cal)\n",
      "\u001b[0;31mAttributeError\u001b[0m: 'Employee' object has no attribute 'updated_cal'"
     ]
    }
   ],
   "metadata": {}
  },
  {
   "cell_type": "code",
   "execution_count": 33,
   "source": [
    "#question\n",
    "class Employee:\n",
    "    def __init__(self):\n",
    "        self.name=\"\"\n",
    "        self.salary=0\n",
    "        self.cal=0\n",
    "    def calsal(self,n,s):\n",
    "        self.name=n\n",
    "        self.salary=s\n",
    "        self.cal=self.salary-((0.2//100)*self.salary)\n",
    "        return self.cal\n",
    "ob=Employee()\n",
    "n=input(\"enter employee name\")\n",
    "s=int(input(\"input salary\"))\n",
    "updated_cal=ob.calsal(n,s)\n",
    "#updated_salary=ob.calsal(s)\n",
    "print(ob.name,\"=\",updated_cal)"
   ],
   "outputs": [
    {
     "output_type": "stream",
     "name": "stdout",
     "text": [
      "palak = 20000.0\n"
     ]
    }
   ],
   "metadata": {}
  },
  {
   "cell_type": "code",
   "execution_count": 34,
   "source": [
    "#question\n",
    "class Employee:\n",
    "    def __init__(self):\n",
    "        self.name=\"\"\n",
    "        self.salary=0\n",
    "    def calsal(self,n,s):\n",
    "        self.name=n\n",
    "        self.salary=s\n",
    "        cal=self.salary-((0.2//100)*self.salary)\n",
    "        return cal\n",
    "ob=Employee()\n",
    "n=input(\"enter employee name\")\n",
    "s=int(input(\"input salary\"))\n",
    "p=ob.calsal(n,s)\n",
    "print(ob.name,\"=\",p)"
   ],
   "outputs": [
    {
     "output_type": "stream",
     "name": "stdout",
     "text": [
      "palak = 20000.0\n"
     ]
    }
   ],
   "metadata": {}
  },
  {
   "cell_type": "code",
   "execution_count": 35,
   "source": [
    "#question\n",
    "class Employee:\n",
    "    def __init__(self):\n",
    "        self.name=\"\"\n",
    "        self.salary=0\n",
    "    def calsal(self,n,s):\n",
    "        self.name=n\n",
    "        self.salary=s\n",
    "        cal=self.salary-((0.2//100)*self.salary)\n",
    "        print(cal)\n",
    "        return cal\n",
    "ob=Employee()\n",
    "n=input(\"enter employee name\")\n",
    "s=int(input(\"input salary\"))\n",
    "p=ob.calsal(n,s)\n",
    "print(ob.name,\"=\",p)"
   ],
   "outputs": [
    {
     "output_type": "stream",
     "name": "stdout",
     "text": [
      "20000.0\n",
      "palak = 20000.0\n"
     ]
    }
   ],
   "metadata": {}
  },
  {
   "cell_type": "code",
   "execution_count": 36,
   "source": [
    "#question\n",
    "class Employee:\n",
    "    def __init__(self):\n",
    "        self.name=\"\"\n",
    "        self.salary=0\n",
    "    def calsal(self,n,s):\n",
    "        self.name=n\n",
    "        self.salary=s\n",
    "        cal=self.salary-((0.2/100)*self.salary)\n",
    "        print(cal)\n",
    "        return cal\n",
    "ob=Employee()\n",
    "n=input(\"enter employee name\")\n",
    "s=int(input(\"input salary\"))\n",
    "p=ob.calsal(n,s)\n",
    "print(ob.name,\"=\",p)"
   ],
   "outputs": [
    {
     "output_type": "stream",
     "name": "stdout",
     "text": [
      "19960.0\n",
      "palak = 19960.0\n"
     ]
    }
   ],
   "metadata": {}
  },
  {
   "cell_type": "code",
   "execution_count": 37,
   "source": [
    "#question\n",
    "class Employee:\n",
    "    def __init__(self):\n",
    "        self.name=\"\"\n",
    "        self.salary=0\n",
    "    def calsal(self,n,s):\n",
    "        self.name=n\n",
    "        self.salary=s\n",
    "        cal=self.salary-((0.2/100)*self.salary)\n",
    "        return cal\n",
    "ob=Employee()\n",
    "n=input(\"enter employee name\")\n",
    "s=int(input(\"input salary\"))\n",
    "p=ob.calsal(n,s)\n",
    "print(ob.name,\"=\",p)"
   ],
   "outputs": [
    {
     "output_type": "stream",
     "name": "stdout",
     "text": [
      "palak = 19960.0\n"
     ]
    }
   ],
   "metadata": {}
  },
  {
   "cell_type": "code",
   "execution_count": 38,
   "source": [
    "class Operate:\n",
    "    def __init__(self):\n",
    "        self.st=\"\"\n",
    "    def get_string(self):\n",
    "        self.st=input(\"enter the string\")\n",
    "    def print_string(self):\n",
    "        self.st=st.upper()\n",
    "        return self.st     \n",
    "ob.Operate()\n",
    "print(\"Updated string=\",ob.st)\n",
    "\n",
    "    "
   ],
   "outputs": [
    {
     "output_type": "error",
     "ename": "AttributeError",
     "evalue": "'Employee' object has no attribute 'Operate'",
     "traceback": [
      "\u001b[0;31m---------------------------------------------------------------------------\u001b[0m",
      "\u001b[0;31mAttributeError\u001b[0m                            Traceback (most recent call last)",
      "Cell \u001b[0;32mIn[38], line 9\u001b[0m\n\u001b[1;32m      7\u001b[0m         \u001b[39mself\u001b[39m\u001b[39m.\u001b[39mst\u001b[39m=\u001b[39mst\u001b[39m.\u001b[39mupper()\n\u001b[1;32m      8\u001b[0m         \u001b[39mreturn\u001b[39;00m \u001b[39mself\u001b[39m\u001b[39m.\u001b[39mst     \n\u001b[0;32m----> 9\u001b[0m ob\u001b[39m.\u001b[39;49mOperate()\n\u001b[1;32m     10\u001b[0m \u001b[39mprint\u001b[39m(\u001b[39m\"\u001b[39m\u001b[39mUpdated string=\u001b[39m\u001b[39m\"\u001b[39m,ob\u001b[39m.\u001b[39mst)\n",
      "\u001b[0;31mAttributeError\u001b[0m: 'Employee' object has no attribute 'Operate'"
     ]
    }
   ],
   "metadata": {}
  },
  {
   "cell_type": "code",
   "execution_count": 39,
   "source": [
    "class Operate:\n",
    "    def __init__(self):\n",
    "        self.st=\"\"\n",
    "    def get_string(self):\n",
    "        self.st=input(\"enter the string\")\n",
    "    def print_string(self):\n",
    "        self.st=st.upper()\n",
    "        return self.st     \n",
    "ob.Operate()\n",
    "print(\"Updated string=\",ob.st)\n",
    "\n",
    "    "
   ],
   "outputs": [
    {
     "output_type": "error",
     "ename": "AttributeError",
     "evalue": "'Employee' object has no attribute 'Operate'",
     "traceback": [
      "\u001b[0;31m---------------------------------------------------------------------------\u001b[0m",
      "\u001b[0;31mAttributeError\u001b[0m                            Traceback (most recent call last)",
      "Cell \u001b[0;32mIn[39], line 9\u001b[0m\n\u001b[1;32m      7\u001b[0m         \u001b[39mself\u001b[39m\u001b[39m.\u001b[39mst\u001b[39m=\u001b[39mst\u001b[39m.\u001b[39mupper()\n\u001b[1;32m      8\u001b[0m         \u001b[39mreturn\u001b[39;00m \u001b[39mself\u001b[39m\u001b[39m.\u001b[39mst     \n\u001b[0;32m----> 9\u001b[0m ob\u001b[39m.\u001b[39;49mOperate()\n\u001b[1;32m     10\u001b[0m \u001b[39mprint\u001b[39m(\u001b[39m\"\u001b[39m\u001b[39mUpdated string=\u001b[39m\u001b[39m\"\u001b[39m,ob\u001b[39m.\u001b[39mst)\n",
      "\u001b[0;31mAttributeError\u001b[0m: 'Employee' object has no attribute 'Operate'"
     ]
    }
   ],
   "metadata": {}
  },
  {
   "cell_type": "code",
   "execution_count": 43,
   "source": [
    "class Operate:\n",
    "    def __init__(self):\n",
    "        self.st=\"\"\n",
    "    def get_string(self):\n",
    "        self.st=input(\"enter the string\")\n",
    "    def print_string(self):\n",
    "        self.st=self.st.upper()\n",
    "        return self.st     \n",
    "ob=Operate()\n",
    "ob.get_string()\n",
    "p=ob.print_string()\n",
    "print(\"Updated string=\",ob.st)\n",
    "\n",
    "    "
   ],
   "outputs": [
    {
     "output_type": "stream",
     "name": "stdout",
     "text": [
      "Updated string= PALAK\n"
     ]
    }
   ],
   "metadata": {}
  }
 ],
 "nbformat": 4,
 "nbformat_minor": 2,
 "metadata": {
  "language_info": {
   "codemirror_mode": {
    "name": "ipython",
    "version": 3
   },
   "file_extension": ".py",
   "mimetype": "text/x-python",
   "name": "python",
   "nbconvert_exporter": "python",
   "pygments_lexer": "ipython3",
   "version": 3
  },
  "orig_nbformat": 4
 }
}