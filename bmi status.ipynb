{
 "cells": [
  {
   "cell_type": "code",
   "execution_count": 2,
   "source": [
    "w=int(input(\"enter weight\"))\n",
    "h=int(input(\"enter height\"))\n",
    "bmi=w/(h**2)\n",
    "if(bmi<18.5):\n",
    "  print(\"UNDERWEIGHT\")\n",
    "elif(bmi>=18.5 and bmi<=24.9):\n",
    "  print(\"NORMAL\")\n",
    "elif(bmi>=25 and bmi<=29.9):\n",
    "    print(\"OVERWEIGHT\")\n",
    "elif(bmi>=30):\n",
    "    print(\"OBESE\")\n",
    "else:\n",
    "    print(\"WRONG INPUT\")    \n",
    ""
   ],
   "outputs": [
    {
     "output_type": "stream",
     "name": "stdout",
     "text": [
      "UNDERWEIGHT\n"
     ]
    }
   ],
   "metadata": {}
  },
  {
   "cell_type": "code",
   "execution_count": 3,
   "source": [
    "w=int(input(\"enter weight\"))\n",
    "h=int(input(\"enter height\"))\n",
    "bmi=w/(h**2)\n",
    "if(bmi<18.5):\n",
    "  print(\"UNDERWEIGHT\")\n",
    "elif(bmi>=18.5 and bmi<=24.9):\n",
    "  print(\"NORMAL\")\n",
    "elif(bmi>=25 and bmi<=29.9):\n",
    "    print(\"OVERWEIGHT\")\n",
    "elif(bmi>=30):\n",
    "    print(\"OBESE\")\n",
    "else:\n",
    "    print(\"WRONG INPUT\")    \n",
    ""
   ],
   "outputs": [
    {
     "output_type": "stream",
     "name": "stdout",
     "text": [
      "UNDERWEIGHT\n"
     ]
    }
   ],
   "metadata": {}
  },
  {
   "cell_type": "code",
   "execution_count": 4,
   "source": [
    "w=int(input(\"enter weight\"))\n",
    "h=float(input(\"enter height in meter\"))\n",
    "bmi=w/(h**2)\n",
    "if(bmi<18.5):\n",
    "  print(\"UNDERWEIGHT\")\n",
    "elif(bmi>=18.5 and bmi<=24.9):\n",
    "  print(\"NORMAL\")\n",
    "elif(bmi>=25 and bmi<=29.9):\n",
    "    print(\"OVERWEIGHT\")\n",
    "elif(bmi>=30):\n",
    "    print(\"OBESE\")\n",
    "else:\n",
    "    print(\"WRONG INPUT\")    \n",
    ""
   ],
   "outputs": [
    {
     "output_type": "stream",
     "name": "stdout",
     "text": [
      "UNDERWEIGHT\n"
     ]
    }
   ],
   "metadata": {}
  },
  {
   "cell_type": "code",
   "execution_count": 5,
   "source": [
    "w=int(input(\"enter weight\"))\n",
    "h=float(input(\"enter height in meter\"))\n",
    "bmi=w/(h**2)\n",
    "if(bmi<18.5):\n",
    "  print(\"UNDERWEIGHT\")\n",
    "elif(bmi>=18.5 and bmi<=24.9):\n",
    "  print(\"NORMAL\")\n",
    "elif(bmi>=25 and bmi<=29.9):\n",
    "    print(\"OVERWEIGHT\")\n",
    "elif(bmi>=30):\n",
    "    print(\"OBESE\")\n",
    "else:\n",
    "    print(\"WRONG INPUT\")    \n",
    ""
   ],
   "outputs": [
    {
     "output_type": "stream",
     "name": "stdout",
     "text": [
      "OVERWEIGHT\n"
     ]
    }
   ],
   "metadata": {}
  },
  {
   "cell_type": "code",
   "execution_count": 6,
   "source": [
    "w=int(input(\"enter weight\"))\n",
    "h=float(input(\"enter height in meter\"))\n",
    "bmi=w/(h**2)\n",
    "if(bmi<18.5):\n",
    "  print(\"UNDERWEIGHT\")\n",
    "elif(bmi>=18.5 and bmi<=24.9):\n",
    "  print(\"NORMAL\")\n",
    "elif(bmi>=25 and bmi<=29.9):\n",
    "    print(\"OVERWEIGHT\")\n",
    "elif(bmi>=30):\n",
    "    print(\"OBESE\")\n",
    "else:\n",
    "    print(\"WRONG INPUT\")    \n",
    ""
   ],
   "outputs": [
    {
     "output_type": "stream",
     "name": "stdout",
     "text": [
      "NORMAL\n"
     ]
    }
   ],
   "metadata": {}
  }
 ],
 "nbformat": 4,
 "nbformat_minor": 2,
 "metadata": {
  "language_info": {
   "codemirror_mode": {
    "name": "ipython",
    "version": 3
   },
   "file_extension": ".py",
   "mimetype": "text/x-python",
   "name": "python",
   "nbconvert_exporter": "python",
   "pygments_lexer": "ipython3",
   "version": 3
  },
  "orig_nbformat": 4
 }
}