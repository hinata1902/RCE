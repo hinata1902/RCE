{
 "cells": [
  {
   "cell_type": "code",
   "execution_count": 36,
   "source": [
    "num=int(input(\"enter a number\"))\n",
    "print(num)"
   ],
   "outputs": [
    {
     "output_type": "stream",
     "name": "stdout",
     "text": [
      "7\n"
     ]
    }
   ],
   "metadata": {}
  },
  {
   "cell_type": "code",
   "execution_count": 37,
   "source": [
    "name=input(\"enter your name\")\n",
    "print(type(name))"
   ],
   "outputs": [
    {
     "output_type": "stream",
     "name": "stdout",
     "text": [
      "<class 'str'>\n"
     ]
    }
   ],
   "metadata": {}
  },
  {
   "cell_type": "code",
   "execution_count": 38,
   "source": [
    "#operators\n",
    "a,b=8,9\n",
    "print(a+b)\n",
    "print(a-b)\n",
    "print(a/b)\n",
    "print(a//b)\n",
    "print(a*b)\n",
    "print(a%b)\n",
    "print(a**2)"
   ],
   "outputs": [
    {
     "output_type": "stream",
     "name": "stdout",
     "text": [
      "17\n",
      "-1\n",
      "0.8888888888888888\n",
      "0\n",
      "72\n",
      "8\n",
      "64\n"
     ]
    }
   ],
   "metadata": {}
  },
  {
   "cell_type": "code",
   "execution_count": 45,
   "source": [
    "#question\n",
    "#area of circle\n",
    "r=int(input(\"enter radius\"))\n",
    "print(\"area=\",3.14*(r**2))"
   ],
   "outputs": [
    {
     "output_type": "stream",
     "name": "stdout",
     "text": [
      "area= 12.56\n"
     ]
    }
   ],
   "metadata": {}
  },
  {
   "cell_type": "code",
   "execution_count": 46,
   "source": [
    "a=int(input(\"enter marks of 1st subject\"))\n",
    "b=int(input(\"enter marks of 2nd subject\"))\n",
    "c=int(input(\"enter marks of 3rd subject\"))\n",
    "avg=(a+b+c)/3\n",
    "percentage=((a+b+c)/300)*100\n",
    "print(\"average=\",avg,\"percentage=\",percentage)"
   ],
   "outputs": [
    {
     "output_type": "stream",
     "name": "stdout",
     "text": [
      "average= 60.0 percentage= 60.0\n"
     ]
    }
   ],
   "metadata": {}
  },
  {
   "cell_type": "code",
   "execution_count": 47,
   "source": [
    "w=int(input(\"enter weight\"))\n",
    "h=int(input(\"enter height\"))\n",
    "bmi=w/(h**2)\n",
    "print(\"bmi=\",bmi)"
   ],
   "outputs": [
    {
     "output_type": "stream",
     "name": "stdout",
     "text": [
      "bmi= 0.002164127423822715\n"
     ]
    }
   ],
   "metadata": {}
  }
 ],
 "nbformat": 4,
 "nbformat_minor": 2,
 "metadata": {
  "language_info": {
   "codemirror_mode": {
    "name": "ipython",
    "version": 3
   },
   "file_extension": ".py",
   "mimetype": "text/x-python",
   "name": "python",
   "nbconvert_exporter": "python",
   "pygments_lexer": "ipython3",
   "version": 3
  },
  "orig_nbformat": 4
 }
}