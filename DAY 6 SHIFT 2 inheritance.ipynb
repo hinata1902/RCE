{
 "cells": [
  {
   "cell_type": "code",
   "execution_count": 44,
   "source": [
    "class Employee:\n",
    "    def __init__(self):\n",
    "        self.salary=1500\n",
    "\n",
    "class Programmer(Employee):\n",
    "    def give_bonus(self):\n",
    "        return self.salary+1000\n",
    "p=Programmer()\n",
    "print(p.give_bonus)        \n",
    ""
   ],
   "outputs": [
    {
     "output_type": "stream",
     "name": "stdout",
     "text": [
      "<bound method Programmer.give_bonus of <__main__.Programmer object at 0x10d53cb50>>\n"
     ]
    }
   ],
   "metadata": {}
  },
  {
   "cell_type": "code",
   "execution_count": 45,
   "source": [
    "class Employee:\n",
    "    def __init__(self):\n",
    "        self.salary=1500\n",
    "\n",
    "class Programmer(Employee):\n",
    "    def give_bonus(self):\n",
    "        return self.salary+1000\n",
    "p=Programmer()\n",
    "print(p.give_bonus())        \n",
    ""
   ],
   "outputs": [
    {
     "output_type": "stream",
     "name": "stdout",
     "text": [
      "2500\n"
     ]
    }
   ],
   "metadata": {}
  },
  {
   "cell_type": "code",
   "execution_count": 46,
   "source": [
    "#super \n",
    "class Employee:\n",
    "    def __init__(self):\n",
    "        self.salary=1500\n",
    "\n",
    "class Programmer(Employee):\n",
    "    def __init__(self):\n",
    "        super().__init__()\n",
    "        print(\"this is programmer\")\n",
    "    def give_bonus(self):\n",
    "        return self.salary+1000\n",
    "p=Programmer()\n",
    "print(p.give_bonus())        \n",
    ""
   ],
   "outputs": [
    {
     "output_type": "stream",
     "name": "stdout",
     "text": [
      "this is programmer\n",
      "2500\n"
     ]
    }
   ],
   "metadata": {}
  },
  {
   "cell_type": "code",
   "execution_count": 47,
   "source": [
    "#multiple child class\n",
    "class Employee:\n",
    "    def __init__(self):\n",
    "        self.salary=1500\n",
    "\n",
    "class Programmer(Employee):\n",
    "    def __init__(self):\n",
    "        super().__init__()\n",
    "        print(\"this is programmer\")\n",
    "    def give_bonus(self):\n",
    "        return self.salary+1000\n",
    "class Admin(Employee):\n",
    "    def give_bonus(self):\n",
    "        return self.salary+1200\n",
    "p=Programmer()\n",
    "ob=Admin()\n",
    "print(p.give_bonus())  \n",
    "print(ob.give_bonus())        \n",
    ""
   ],
   "outputs": [
    {
     "output_type": "stream",
     "name": "stdout",
     "text": [
      "this is programmer\n",
      "2500\n",
      "2700\n"
     ]
    }
   ],
   "metadata": {}
  },
  {
   "cell_type": "code",
   "execution_count": 48,
   "source": [
    "#multiple parent class\n",
    "class Father:\n",
    "    def display(self):\n",
    "        print(\"this is father\")\n",
    "class Mother:\n",
    "    def show(self):\n",
    "        print(\"this is mother\")\n",
    "class Child(Father,Mother):\n",
    "    def disp(self):\n",
    "        print(\"this is child\")\n",
    "c=Child()\n",
    "c.display()\n",
    "c.show()\n",
    "c.disp()                       "
   ],
   "outputs": [
    {
     "output_type": "stream",
     "name": "stdout",
     "text": [
      "this is father\n",
      "this is mother\n",
      "this is child\n"
     ]
    }
   ],
   "metadata": {}
  }
 ],
 "nbformat": 4,
 "nbformat_minor": 2,
 "metadata": {
  "language_info": {
   "codemirror_mode": {
    "name": "ipython",
    "version": 3
   },
   "file_extension": ".py",
   "mimetype": "text/x-python",
   "name": "python",
   "nbconvert_exporter": "python",
   "pygments_lexer": "ipython3",
   "version": 3
  },
  "orig_nbformat": 4
 }
}