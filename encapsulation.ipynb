{
 "cells": [
  {
   "cell_type": "code",
   "execution_count": 55,
   "source": [
    "class Employee:\n",
    "    def __init__(self):\n",
    "        self.__a=10\n",
    "    def show(self):\n",
    "        print(self.__a)    \n",
    "e=Employee()\n",
    "e.show()        "
   ],
   "outputs": [
    {
     "output_type": "stream",
     "name": "stdout",
     "text": [
      "10\n"
     ]
    }
   ],
   "metadata": {}
  },
  {
   "cell_type": "code",
   "execution_count": 56,
   "source": [
    "class Employee:\n",
    "    def __init__(self):\n",
    "        self.__a=10\n",
    "    def __change(self):\n",
    "        self.__a=12 \n",
    "        return self.__a   \n",
    "    def show(self):\n",
    "        print(self.__change())    \n",
    "e=Employee()\n",
    "e.show()        "
   ],
   "outputs": [
    {
     "output_type": "stream",
     "name": "stdout",
     "text": [
      "12\n"
     ]
    }
   ],
   "metadata": {}
  }
 ],
 "nbformat": 4,
 "nbformat_minor": 2,
 "metadata": {
  "language_info": {
   "codemirror_mode": {
    "name": "ipython",
    "version": 3
   },
   "file_extension": ".py",
   "mimetype": "text/x-python",
   "name": "python",
   "nbconvert_exporter": "python",
   "pygments_lexer": "ipython3",
   "version": 3
  },
  "orig_nbformat": 4
 }
}