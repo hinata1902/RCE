{
 "cells": [
  {
   "cell_type": "code",
   "execution_count": 1,
   "metadata": {},
   "outputs": [
    {
     "name": "stdout",
     "output_type": "stream",
     "text": [
      "4\n",
      "1\n"
     ]
    }
   ],
   "source": [
    "#tuple\n",
    "t=(1,2,3,4)\n",
    "print(max(t))\n",
    "print(min(t))"
   ]
  },
  {
   "cell_type": "code",
   "execution_count": 2,
   "metadata": {},
   "outputs": [
    {
     "name": "stdout",
     "output_type": "stream",
     "text": [
      "1 2 hello hii bye\n"
     ]
    }
   ],
   "source": [
    "#tuple unpacking\n",
    "a,b,c,d,e=(1,2,\"hello\",\"hii\",\"bye\")\n",
    "print(a,b,c,d,e)"
   ]
  },
  {
   "cell_type": "code",
   "execution_count": 5,
   "metadata": {},
   "outputs": [
    {
     "name": "stdout",
     "output_type": "stream",
     "text": [
      "True\n"
     ]
    }
   ],
   "source": [
    "#sets\n",
    "fruit={\"mango\",\"apple\",\"orange\",\"orange\"}\n",
    "print(\"mango\" in fruit)"
   ]
  },
  {
   "cell_type": "code",
   "execution_count": 6,
   "metadata": {},
   "outputs": [
    {
     "name": "stdout",
     "output_type": "stream",
     "text": [
      "{'orange', 'apple', 'mango', 'kiwi'}\n"
     ]
    }
   ],
   "source": [
    "#sets\n",
    "fruit={\"mango\",\"apple\",\"orange\",\"orange\"}\n",
    "fruit.add(\"kiwi\")\n",
    "print(fruit)"
   ]
  },
  {
   "cell_type": "code",
   "execution_count": 7,
   "metadata": {},
   "outputs": [
    {
     "name": "stdout",
     "output_type": "stream",
     "text": [
      "{'cherry', 'watermelon', 'banana', 'apple', 'orange', 'mango'}\n"
     ]
    }
   ],
   "source": [
    "#sets\n",
    "fruit={\"mango\",\"apple\",\"orange\",\"orange\"}\n",
    "fruit.update([\"banana\",\"cherry\",\"watermelon\"])\n",
    "print(fruit)"
   ]
  },
  {
   "cell_type": "code",
   "execution_count": 8,
   "metadata": {},
   "outputs": [
    {
     "name": "stdout",
     "output_type": "stream",
     "text": [
      "6\n"
     ]
    }
   ],
   "source": [
    "#sets\n",
    "fruit={\"mango\",\"apple\",\"orange\",\"orange\"}\n",
    "fruit.update([\"banana\",\"cherry\",\"watermelon\"])\n",
    "print(len(fruit))"
   ]
  },
  {
   "cell_type": "code",
   "execution_count": 9,
   "metadata": {},
   "outputs": [
    {
     "name": "stdout",
     "output_type": "stream",
     "text": [
      "set()\n"
     ]
    }
   ],
   "source": [
    "#sets\n",
    "fruit={\"mango\",\"apple\",\"orange\",\"orange\"}\n",
    "#fruit.update([\"banana\",\"cherry\",\"watermelon\"])\n",
    "fruit.clear()\n",
    "print(fruit)"
   ]
  },
  {
   "cell_type": "code",
   "execution_count": 10,
   "metadata": {},
   "outputs": [
    {
     "name": "stdout",
     "output_type": "stream",
     "text": [
      "{'orange', 'apple'}\n"
     ]
    }
   ],
   "source": [
    "#sets\n",
    "fruit={\"mango\",\"apple\",\"orange\",\"orange\"}\n",
    "fruit.remove(\"mango\")\n",
    "print(fruit)"
   ]
  },
  {
   "cell_type": "code",
   "execution_count": 11,
   "metadata": {},
   "outputs": [
    {
     "name": "stdout",
     "output_type": "stream",
     "text": [
      "orange\n"
     ]
    }
   ],
   "source": [
    "#sets\n",
    "fruit={\"mango\",\"apple\",\"orange\",\"orange\"}\n",
    "#fruit.remove(\"mango\")\n",
    "print(fruit.pop())"
   ]
  },
  {
   "cell_type": "code",
   "execution_count": 13,
   "metadata": {},
   "outputs": [
    {
     "ename": "NameError",
     "evalue": "name 'fruit' is not defined",
     "output_type": "error",
     "traceback": [
      "\u001b[0;31m---------------------------------------------------------------------------\u001b[0m",
      "\u001b[0;31mNameError\u001b[0m                                 Traceback (most recent call last)",
      "Cell \u001b[0;32mIn[13], line 5\u001b[0m\n\u001b[1;32m      3\u001b[0m \u001b[39m#fruit.remove(\"mango\")\u001b[39;00m\n\u001b[1;32m      4\u001b[0m \u001b[39mdel\u001b[39;00m fruit\n\u001b[0;32m----> 5\u001b[0m \u001b[39mprint\u001b[39m(fruit)\n",
      "\u001b[0;31mNameError\u001b[0m: name 'fruit' is not defined"
     ]
    }
   ],
   "source": [
    "#sets\n",
    "fruit={\"mango\",\"apple\",\"orange\",\"orange\"}\n",
    "#fruit.remove(\"mango\")\n",
    "del fruit\n",
    "print(fruit)"
   ]
  },
  {
   "cell_type": "code",
   "execution_count": 14,
   "metadata": {},
   "outputs": [
    {
     "name": "stdout",
     "output_type": "stream",
     "text": [
      "{'cherry', 'watermelon', 'banana', 'apple', 'orange', 'mango'}\n",
      "{'orange', 'apple'}\n"
     ]
    }
   ],
   "source": [
    "#sets\n",
    "fruit1={\"mango\",\"apple\",\"orange\",\"orange\"}\n",
    "fruit2={\"banana\",\"cherry\",\"watermelon\",\"orange\",\"apple\"}\n",
    "fruit3=fruit1.union(fruit2)\n",
    "fruit4=fruit1.intersection(fruit2)\n",
    "print(fruit3)\n",
    "print(fruit4)"
   ]
  },
  {
   "cell_type": "code",
   "execution_count": 16,
   "metadata": {},
   "outputs": [
    {
     "name": "stdout",
     "output_type": "stream",
     "text": [
      "True\n"
     ]
    }
   ],
   "source": [
    "s1={1,2,3,4}\n",
    "s2={1,3,4}\n",
    "print(s1.issuperset(s2))"
   ]
  },
  {
   "cell_type": "code",
   "execution_count": 17,
   "metadata": {},
   "outputs": [
    {
     "name": "stdout",
     "output_type": "stream",
     "text": [
      "False\n"
     ]
    }
   ],
   "source": [
    "s1={1,2,3,4}\n",
    "s2={1,3,4,6}\n",
    "print(s1.issuperset(s2))"
   ]
  },
  {
   "cell_type": "code",
   "execution_count": 18,
   "metadata": {},
   "outputs": [
    {
     "name": "stdout",
     "output_type": "stream",
     "text": [
      "True\n",
      "True\n"
     ]
    }
   ],
   "source": [
    "s1={1,2,3,4}\n",
    "s2={1,3,4}\n",
    "print(s1.issuperset(s2))\n",
    "print(s2.issubset(s1))"
   ]
  },
  {
   "cell_type": "code",
   "execution_count": 19,
   "metadata": {},
   "outputs": [
    {
     "name": "stdout",
     "output_type": "stream",
     "text": [
      "{1, 2, 3, 4}\n"
     ]
    }
   ],
   "source": [
    "s1={1,2,3,4}\n",
    "s2=s1.copy()\n",
    "print(s2)"
   ]
  },
  {
   "cell_type": "code",
   "execution_count": 20,
   "metadata": {},
   "outputs": [
    {
     "name": "stdout",
     "output_type": "stream",
     "text": [
      "{1, 2, 4}\n"
     ]
    }
   ],
   "source": [
    "s1={1,2,3,4}\n",
    "s2={7,8,9,3}\n",
    "s3=s1.difference(s2)\n",
    "print(s3)"
   ]
  },
  {
   "cell_type": "code",
   "execution_count": 21,
   "metadata": {},
   "outputs": [
    {
     "name": "stdout",
     "output_type": "stream",
     "text": [
      "{'a': 1, 'b': 2, 'c': 3}\n"
     ]
    }
   ],
   "source": [
    "#dictionary\n",
    "d={\"a\":1,\"b\":2,\"c\":3}\n",
    "print(d)"
   ]
  },
  {
   "cell_type": "code",
   "execution_count": 22,
   "metadata": {},
   "outputs": [
    {
     "name": "stdout",
     "output_type": "stream",
     "text": [
      "2\n",
      "[1, 2]\n",
      "[1, 2]\n"
     ]
    }
   ],
   "source": [
    "#dictionary\n",
    "d={\"a\":1,\"b\":2,\"c\":3,12.3:23,(1,2):[1,2]}\n",
    "print(d[\"b\"])\n",
    "print(d[(1,2)])\n",
    "print(d.get((1,2)))\n"
   ]
  },
  {
   "cell_type": "code",
   "execution_count": 23,
   "metadata": {},
   "outputs": [
    {
     "name": "stdout",
     "output_type": "stream",
     "text": [
      "1\n",
      "2\n",
      "3\n"
     ]
    }
   ],
   "source": [
    "#dictionary\n",
    "d={\"a\":1,\"b\":2,\"c\":3}\n",
    "for key in d:\n",
    "    print(d[key])"
   ]
  },
  {
   "cell_type": "code",
   "execution_count": 24,
   "metadata": {},
   "outputs": [
    {
     "name": "stdout",
     "output_type": "stream",
     "text": [
      "a --> 1\n",
      "b --> 2\n",
      "c --> 3\n"
     ]
    }
   ],
   "source": [
    "#dictionary\n",
    "d={\"a\":1,\"b\":2,\"c\":3}\n",
    "for key in d:\n",
    "    print(key,\"-->\",d[key])"
   ]
  },
  {
   "cell_type": "code",
   "execution_count": 25,
   "metadata": {},
   "outputs": [
    {
     "name": "stdout",
     "output_type": "stream",
     "text": [
      "3\n"
     ]
    }
   ],
   "source": [
    "#dictionary functions\n",
    "d={\"a\":1,\"b\":2,\"c\":3}\n",
    "print(len(d))"
   ]
  },
  {
   "cell_type": "code",
   "execution_count": 26,
   "metadata": {},
   "outputs": [
    {
     "name": "stdout",
     "output_type": "stream",
     "text": [
      "dict_keys(['a', 'b', 'c'])\n"
     ]
    }
   ],
   "source": [
    "#dictionary functions\n",
    "d={\"a\":1,\"b\":2,\"c\":3}\n",
    "print(d.keys())"
   ]
  },
  {
   "cell_type": "code",
   "execution_count": 27,
   "metadata": {},
   "outputs": [
    {
     "name": "stdout",
     "output_type": "stream",
     "text": [
      "dict_values([1, 2, 3])\n"
     ]
    }
   ],
   "source": [
    "#dictionary functions\n",
    "d={\"a\":1,\"b\":2,\"c\":3}\n",
    "print(d.values())"
   ]
  },
  {
   "cell_type": "code",
   "execution_count": 28,
   "metadata": {},
   "outputs": [
    {
     "name": "stdout",
     "output_type": "stream",
     "text": [
      "{'a': 1, 'c': 3}\n"
     ]
    }
   ],
   "source": [
    "#dictionary functions\n",
    "d={\"a\":1,\"b\":2,\"c\":3}\n",
    "del d[\"b\"]\n",
    "print(d)"
   ]
  },
  {
   "cell_type": "code",
   "execution_count": 30,
   "metadata": {},
   "outputs": [
    {
     "name": "stdout",
     "output_type": "stream",
     "text": [
      "2\n",
      "{'a': 1, 'c': 3}\n"
     ]
    }
   ],
   "source": [
    "#dictionary functions\n",
    "d={\"a\":1,\"b\":2,\"c\":3}\n",
    "print(d.pop(\"b\"))\n",
    "print(d)"
   ]
  },
  {
   "cell_type": "code",
   "execution_count": 31,
   "metadata": {},
   "outputs": [
    {
     "name": "stdout",
     "output_type": "stream",
     "text": [
      "dict_items([('a', 1), ('b', 2), ('c', 3)])\n",
      "{'a': 1, 'b': 2, 'c': 3}\n"
     ]
    }
   ],
   "source": [
    "#dictionary functions\n",
    "d={\"a\":1,\"b\":2,\"c\":3}\n",
    "print(d.items())\n",
    "print(d)"
   ]
  },
  {
   "cell_type": "code",
   "execution_count": 33,
   "metadata": {},
   "outputs": [
    {
     "name": "stdout",
     "output_type": "stream",
     "text": [
      "{}\n"
     ]
    }
   ],
   "source": [
    "#dictionary functions\n",
    "d={\"a\":1,\"b\":2,\"c\":3}\n",
    "#print(d.items())\n",
    "d.clear()\n",
    "print(d)"
   ]
  },
  {
   "cell_type": "code",
   "execution_count": 34,
   "metadata": {},
   "outputs": [
    {
     "name": "stdout",
     "output_type": "stream",
     "text": [
      "{'a': 23, 'b': 2, 'c': 4, 'p': 12, 'q': 34}\n"
     ]
    }
   ],
   "source": [
    "#dictionary functions\n",
    "d1={\"a\":1,\"b\":2,\"c\":3}\n",
    "d2={\"p\":12,\"q\":34,\"a\":23,\"c\":4}\n",
    "d1.update(d2)\n",
    "print(d1)"
   ]
  },
  {
   "cell_type": "code",
   "execution_count": 35,
   "metadata": {},
   "outputs": [
    {
     "name": "stdout",
     "output_type": "stream",
     "text": [
      "{'a': 2, 'b': 3, 'c': 4, 'r': 6, 't': 8}\n"
     ]
    }
   ],
   "source": [
    "#create adictionary by taking key and value as input\n",
    "d={}\n",
    "for i in range(1,6):\n",
    "    key=input()\n",
    "    value=int(input())\n",
    "    d[key]=value\n",
    "print(d)"
   ]
  },
  {
   "cell_type": "code",
   "execution_count": 36,
   "metadata": {},
   "outputs": [
    {
     "ename": "ValueError",
     "evalue": "invalid literal for int() with base 10: ''",
     "output_type": "error",
     "traceback": [
      "\u001b[0;31m---------------------------------------------------------------------------\u001b[0m",
      "\u001b[0;31mValueError\u001b[0m                                Traceback (most recent call last)",
      "Cell \u001b[0;32mIn[36], line 4\u001b[0m\n\u001b[1;32m      2\u001b[0m \u001b[39mfor\u001b[39;00m i \u001b[39min\u001b[39;00m \u001b[39mrange\u001b[39m(\u001b[39m1\u001b[39m,\u001b[39m6\u001b[39m):\n\u001b[1;32m      3\u001b[0m     key\u001b[39m=\u001b[39m\u001b[39minput\u001b[39m(\u001b[39m\"\u001b[39m\u001b[39minput key\u001b[39m\u001b[39m\"\u001b[39m)\n\u001b[0;32m----> 4\u001b[0m     value\u001b[39m=\u001b[39m\u001b[39mint\u001b[39;49m(\u001b[39minput\u001b[39;49m(\u001b[39m\"\u001b[39;49m\u001b[39minput value\u001b[39;49m\u001b[39m\"\u001b[39;49m))\n\u001b[1;32m      5\u001b[0m     d\u001b[39m=\u001b[39m{key:value}\n\u001b[1;32m      6\u001b[0m \u001b[39mprint\u001b[39m(\u001b[39m\"\u001b[39m\u001b[39mdictionary =\u001b[39m\u001b[39m\"\u001b[39m)\n",
      "\u001b[0;31mValueError\u001b[0m: invalid literal for int() with base 10: ''"
     ]
    }
   ],
   "source": [
    "#create adictionary by taking key and value as input\n",
    "for i in range(1,6):\n",
    "    key=input(\"input key\")\n",
    "    value=int(input(\"input value\"))\n",
    "    d={key:value}\n",
    "print(\"dictionary =\")\n",
    "print(d)\n"
   ]
  }
 ],
 "metadata": {
  "kernelspec": {
   "display_name": "Python 3",
   "language": "python",
   "name": "python3"
  },
  "language_info": {
   "codemirror_mode": {
    "name": "ipython",
    "version": 3
   },
   "file_extension": ".py",
   "mimetype": "text/x-python",
   "name": "python",
   "nbconvert_exporter": "python",
   "pygments_lexer": "ipython3",
   "version": "3.11.4"
  },
  "orig_nbformat": 4
 },
 "nbformat": 4,
 "nbformat_minor": 2
}
