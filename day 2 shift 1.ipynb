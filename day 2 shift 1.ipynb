{
 "cells": [
  {
   "cell_type": "code",
   "execution_count": 78,
   "source": [
    "num=int(input())\n",
    "if(num>0):\n",
    "    print(\"positive\")\n",
    "else:\n",
    "    print(\"negative\")"
   ],
   "outputs": [
    {
     "output_type": "stream",
     "name": "stdout",
     "text": [
      "positive\n"
     ]
    }
   ],
   "metadata": {}
  },
  {
   "cell_type": "code",
   "execution_count": 80,
   "source": [
    "num=int(input())\n",
    "if(((num%5)==0) and ((num%3)==0)):\n",
    "    print(\"yes\")\n",
    "else:\n",
    "    print(\"no\")"
   ],
   "outputs": [
    {
     "output_type": "stream",
     "name": "stdout",
     "text": [
      "yes\n"
     ]
    }
   ],
   "metadata": {}
  },
  {
   "cell_type": "code",
   "execution_count": 82,
   "source": [
    "ch=(input())\n",
    "if((ch=='a') or (ch=='e') or (ch=='i') or (ch=='o') or (ch=='u')or (ch=='A') or (ch=='E') or (ch=='I') or (ch=='O') or (ch=='U')):\n",
    "    print(\"vowel\")\n",
    "else:\n",
    "    print(\"consonant\")    "
   ],
   "outputs": [
    {
     "output_type": "stream",
     "name": "stdout",
     "text": [
      "consonant\n"
     ]
    }
   ],
   "metadata": {}
  },
  {
   "cell_type": "code",
   "execution_count": 83,
   "source": [
    "ch=(input())\n",
    "if((ch=='a') or (ch=='e') or (ch=='i') or (ch=='o') or (ch=='u')or (ch=='A') or (ch=='E') or (ch=='I') or (ch=='O') or (ch=='U')):\n",
    "    print(\"vowel\")\n",
    "else:\n",
    "    print(\"consonant\")    "
   ],
   "outputs": [
    {
     "output_type": "stream",
     "name": "stdout",
     "text": [
      "vowel\n"
     ]
    }
   ],
   "metadata": {}
  },
  {
   "cell_type": "code",
   "execution_count": 84,
   "source": [
    "ch=(input())\n",
    "if((ch=='a' and 'A')or(ch=='e' and 'E')or(ch=='i' and 'I')or(ch=='o' and 'O')or(ch=='u' and 'U')):\n",
    "    print(\"vowel\")\n",
    "else:\n",
    "    print(\"consonant\")    "
   ],
   "outputs": [
    {
     "output_type": "stream",
     "name": "stdout",
     "text": [
      "consonant\n"
     ]
    }
   ],
   "metadata": {}
  },
  {
   "cell_type": "code",
   "execution_count": 85,
   "source": [
    "ch=(input())\n",
    "if((ch=='a') or (ch=='e') or (ch=='i') or (ch=='o') or (ch=='u')or (ch=='A') or (ch=='E') or (ch=='I') or (ch=='O') or (ch=='U')):\n",
    "    print(\"vowel\")\n",
    "else:\n",
    "    print(\"consonant\")    "
   ],
   "outputs": [
    {
     "output_type": "stream",
     "name": "stdout",
     "text": [
      "vowel\n"
     ]
    }
   ],
   "metadata": {}
  },
  {
   "cell_type": "code",
   "execution_count": 86,
   "source": [
    "marks=int(input())\n",
    "if(marks>=90 and marks<=100):\n",
    "print(\"A+\")\n",
    "elif(marks>=80 and marks<=90):\n",
    "print(\"A\")\n",
    "elif(marks>=70 and marks<=80):\n",
    "print(\"B+\")\n",
    "elif(marks>=60 and marks<=70):\n",
    "print(\"B\")\n",
    "elif(marks>=50 and marks<=60):\n",
    "print(\"C\")\n",
    "elif(marks>=40 and marks<=50):\n",
    "print(\"D\")\n",
    "elif(marks>=30 and marks<=40):\n",
    "print(\"E\")\n",
    "else:\n",
    "print(\"f\")\n",
    ""
   ],
   "outputs": [
    {
     "output_type": "error",
     "ename": "IndentationError",
     "evalue": "expected an indented block after 'if' statement on line 2 (340496524.py, line 3)",
     "traceback": [
      "\u001b[0;36m  Cell \u001b[0;32mIn[86], line 3\u001b[0;36m\u001b[0m\n\u001b[0;31m    print(\"A+\")\u001b[0m\n\u001b[0m    ^\u001b[0m\n\u001b[0;31mIndentationError\u001b[0m\u001b[0;31m:\u001b[0m expected an indented block after 'if' statement on line 2\n"
     ]
    }
   ],
   "metadata": {}
  },
  {
   "cell_type": "code",
   "execution_count": 87,
   "source": [
    "marks=int(input())\n",
    "if(marks>=90 and marks<=100):\n",
    "  print(\"A+\")\n",
    "elif(marks>=80 and marks<=90):\n",
    "  print(\"A\")\n",
    "elif(marks>=70 and marks<=80):\n",
    "  print(\"B+\")\n",
    "elif(marks>=60 and marks<=70):\n",
    "  print(\"B\")\n",
    "elif(marks>=50 and marks<=60):\n",
    "  print(\"C\")\n",
    "elif(marks>=40 and marks<=50):\n",
    "  print(\"D\")\n",
    "elif(marks>=30 and marks<=40):\n",
    "  print(\"E\")\n",
    "else:\n",
    "  print(\"f\")\n",
    ""
   ],
   "outputs": [
    {
     "output_type": "stream",
     "name": "stdout",
     "text": [
      "C\n"
     ]
    }
   ],
   "metadata": {}
  },
  {
   "cell_type": "code",
   "execution_count": 88,
   "source": [
    "num1=int(input())\n",
    "num2=int(input())\n",
    "num3=int(input())\n",
    "if(num1>num2 and num1>num3):\n",
    " print(num1)\n",
    "elif(num2>num3 and num2>num1):\n",
    " print(num2)\n",
    "else:\n",
    " print(num3)\n",
    ""
   ],
   "outputs": [
    {
     "output_type": "stream",
     "name": "stdout",
     "text": [
      "6\n"
     ]
    }
   ],
   "metadata": {}
  },
  {
   "cell_type": "code",
   "execution_count": 89,
   "source": [
    "num1=int(input())\n",
    "num2=int(input())\n",
    "num3=int(input())\n",
    "if(num1>num2 and num1>num3):\n",
    " print(num1)\n",
    "elif(num2>num3 and num2>num1):\n",
    " print(num2)\n",
    "else:\n",
    " print(num3)\n",
    ""
   ],
   "outputs": [
    {
     "output_type": "stream",
     "name": "stdout",
     "text": [
      "3\n"
     ]
    }
   ],
   "metadata": {}
  },
  {
   "cell_type": "code",
   "execution_count": 90,
   "source": [
    "num1=int(input())\n",
    "num2=int(input())\n",
    "num3=int(input())\n",
    "if(num1>=num2 and num1>=num3):\n",
    " print(num1)\n",
    "elif(num2>=num3 and num2>=num1):\n",
    " print(num2)\n",
    "else:\n",
    " print(num3)\n",
    ""
   ],
   "outputs": [
    {
     "output_type": "stream",
     "name": "stdout",
     "text": [
      "5\n"
     ]
    }
   ],
   "metadata": {}
  },
  {
   "cell_type": "code",
   "execution_count": 91,
   "source": [
    "#leap year\n",
    "y=int(input())\n",
    "if(y%4==0):\n",
    "    print(\"leap year\")\n",
    "else:\n",
    "    print(\"not a leap year\")"
   ],
   "outputs": [
    {
     "output_type": "stream",
     "name": "stdout",
     "text": [
      "leap year\n"
     ]
    }
   ],
   "metadata": {}
  }
 ],
 "nbformat": 4,
 "nbformat_minor": 2,
 "metadata": {
  "language_info": {
   "codemirror_mode": {
    "name": "ipython",
    "version": 3
   },
   "file_extension": ".py",
   "mimetype": "text/x-python",
   "name": "python",
   "nbconvert_exporter": "python",
   "pygments_lexer": "ipython3",
   "version": 3
  },
  "orig_nbformat": 4
 }
}