{
 "cells": [
  {
   "cell_type": "code",
   "execution_count": 55,
   "source": [
    "#simple interest\n",
    "p=int(input(\"enter principle\"))\n",
    "r=int(input(\"enter rate\"))\n",
    "t=int(input(\"enter time\"))\n",
    "si=(p*r*t)/100\n",
    "print(\"SI=\",si)"
   ],
   "outputs": [
    {
     "output_type": "stream",
     "name": "stdout",
     "text": [
      "SI= 360.0\n"
     ]
    }
   ],
   "metadata": {}
  },
  {
   "cell_type": "code",
   "execution_count": 57,
   "source": [
    "#temperature\n",
    "c=int(input(\"enter temp in celsius\"))\n",
    "f=((9/5)*c)+32\n",
    "print(\"temperature in fahrenheite=\",f)"
   ],
   "outputs": [
    {
     "output_type": "stream",
     "name": "stdout",
     "text": [
      "temperature in fahrenheite= 77.0\n"
     ]
    }
   ],
   "metadata": {}
  },
  {
   "cell_type": "code",
   "execution_count": 58,
   "source": [
    "#CI\n",
    "#simple interest\n",
    "p=int(input(\"enter principle\"))\n",
    "r=int(input(\"enter rate\"))\n",
    "t=int(input(\"enter time\"))\n",
    "n=int(input(\"enter number of times interest is applied\"))\n",
    "ci=p*(1+(r/n))**(n*t)\n",
    "print(\"CI=\",ci)"
   ],
   "outputs": [
    {
     "output_type": "stream",
     "name": "stdout",
     "text": [
      "CI= 15625000.0\n"
     ]
    }
   ],
   "metadata": {}
  }
 ],
 "nbformat": 4,
 "nbformat_minor": 2,
 "metadata": {
  "language_info": {
   "codemirror_mode": {
    "name": "ipython",
    "version": 3
   },
   "file_extension": ".py",
   "mimetype": "text/x-python",
   "name": "python",
   "nbconvert_exporter": "python",
   "pygments_lexer": "ipython3",
   "version": 3
  },
  "orig_nbformat": 4
 }
}