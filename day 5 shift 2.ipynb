{
 "cells": [
  {
   "cell_type": "code",
   "execution_count": 5,
   "metadata": {},
   "outputs": [
    {
     "name": "stdout",
     "output_type": "stream",
     "text": [
      "[1, 9, 16, 25]\n"
     ]
    }
   ],
   "source": [
    "lst=[1,3,4,5]\n",
    "result=map(lambda x:x**2,lst)\n",
    "print(list(result))"
   ]
  },
  {
   "cell_type": "code",
   "execution_count": 3,
   "metadata": {},
   "outputs": [
    {
     "name": "stdout",
     "output_type": "stream",
     "text": [
      "['APPLE', 'MANGO', 'BANANA', 'KIWI']\n"
     ]
    }
   ],
   "source": [
    "#WAP a lambda expression which converts all the string to uppercase\n",
    "lst=[\"apple\",\"mango\",\"banana\",\"kiwi\"]\n",
    "result=map(lambda x:x.upper(),lst)\n",
    "print(list(result))"
   ]
  },
  {
   "cell_type": "code",
   "execution_count": 7,
   "metadata": {},
   "outputs": [
    {
     "name": "stdout",
     "output_type": "stream",
     "text": [
      "[12, 4]\n"
     ]
    }
   ],
   "source": [
    "#even number in lambda function\n",
    "lst=[12,3,4,5]\n",
    "result=filter(lambda x:x%2==0,lst)\n",
    "print(list(result))"
   ]
  },
  {
   "cell_type": "code",
   "execution_count": 9,
   "metadata": {},
   "outputs": [
    {
     "name": "stdout",
     "output_type": "stream",
     "text": [
      "[1, 4]\n"
     ]
    }
   ],
   "source": [
    "#WAP to filter integer\n",
    "lst=[1,\"mango\",4,5.5]\n",
    "result=filter(lambda x:type(x)==int,lst)\n",
    "print(list(result))"
   ]
  },
  {
   "cell_type": "code",
   "execution_count": 20,
   "metadata": {},
   "outputs": [
    {
     "name": "stdout",
     "output_type": "stream",
     "text": [
      "[{'make': 'Nokia', 'model': 216, 'color': 'Black'}]\n"
     ]
    }
   ],
   "source": [
    "#WAP to filter list \n",
    "models =[{'make':'Nokia', 'model':216, 'color':'Black'},\n",
    "         {'make':'Mi Max', 'model':2, 'color':'Gold'},\n",
    "         {'make':'Samsung', 'model': 7, 'color':'Blue'}]\n",
    "result=filter(lambda x:x['model']>7,models)\n",
    "print(list(result))"
   ]
  },
  {
   "cell_type": "code",
   "execution_count": 18,
   "metadata": {},
   "outputs": [
    {
     "name": "stdout",
     "output_type": "stream",
     "text": [
      "22\n"
     ]
    }
   ],
   "source": [
    "#reduce\n",
    "from functools import reduce\n",
    "lst=[1,2,3,4,5,7]\n",
    "result=reduce(lambda x,y:x+y,lst)\n",
    "print(result)"
   ]
  },
  {
   "cell_type": "code",
   "execution_count": null,
   "metadata": {},
   "outputs": [],
   "source": [
    "from functools import reduce\n",
    "models =[{'make':'Nokia', 'model':216, 'color':'Black'},\n",
    "         {'make':'Mi Max', 'model':2, 'color':'Gold'},\n",
    "         {'make':'Samsung', 'model': 7, 'color':'Blue'}]\n",
    "result=reduce(lambda )"
   ]
  },
  {
   "cell_type": "code",
   "execution_count": null,
   "metadata": {},
   "outputs": [],
   "source": []
  },
  {
   "cell_type": "code",
   "execution_count": 21,
   "metadata": {},
   "outputs": [
    {
     "name": "stdout",
     "output_type": "stream",
     "text": [
      "10\n"
     ]
    }
   ],
   "source": [
    "#greatest number\n",
    "from functools import reduce\n",
    "nums=[5,6,7,9,10]\n",
    "result=reduce(lambda x,y: x if x>y else y,nums)\n",
    "print(result)"
   ]
  },
  {
   "cell_type": "code",
   "execution_count": 27,
   "metadata": {},
   "outputs": [
    {
     "name": "stdout",
     "output_type": "stream",
     "text": [
      "[{'make': 'Mi Max', 'model': 2, 'color': 'Gold'}, {'make': 'Samsung', 'model': 7, 'color': 'Blue'}, {'make': 'Nokia', 'model': 216, 'color': 'Black'}]\n"
     ]
    }
   ],
   "source": [
    "from functools import reduce\n",
    "models =[{'make':'Nokia', 'model':216, 'color':'Black'},\n",
    "         {'make':'Mi Max', 'model':2, 'color':'Gold'},\n",
    "         {'make':'Samsung', 'model': 7, 'color':'Blue'}]\n",
    "models.sort(key=lambda x:x['model']) \n",
    "print(models)"
   ]
  },
  {
   "cell_type": "code",
   "execution_count": 28,
   "metadata": {},
   "outputs": [
    {
     "name": "stdout",
     "output_type": "stream",
     "text": [
      "[{'make': 'Mi Max', 'model': 2, 'color': 'Gold'}, {'make': 'Samsung', 'model': 7, 'color': 'Blue'}, {'make': 'Nokia', 'model': 216, 'color': 'Black'}]\n"
     ]
    }
   ],
   "source": [
    "from functools import reduce\n",
    "models =[{'make':'Nokia', 'model':216, 'color':'Black'},\n",
    "         {'make':'Mi Max', 'model':2, 'color':'Gold'},\n",
    "         {'make':'Samsung', 'model': 7, 'color':'Blue'}]\n",
    "result=sorted(models,key=lambda x:x['model']) \n",
    "print(result)"
   ]
  },
  {
   "cell_type": "code",
   "execution_count": 31,
   "metadata": {},
   "outputs": [
    {
     "name": "stdout",
     "output_type": "stream",
     "text": [
      "[5, 8, 13]\n"
     ]
    }
   ],
   "source": [
    "#WAP to add two list using lambda function\n",
    "lst1=[1,3,5]\n",
    "lst2=[4,5,8,3]\n",
    "result=map(lambda x,y:x+y,lst1,lst2)\n",
    "print(list(result))"
   ]
  },
  {
   "cell_type": "code",
   "execution_count": null,
   "metadata": {},
   "outputs": [],
   "source": [
    "#assignment\n",
    "s=input()\n",
    "l=list(s)\n",
    "for i in l:\n",
    "    "
   ]
  },
  {
   "cell_type": "code",
   "execution_count": 53,
   "metadata": {},
   "outputs": [
    {
     "name": "stdout",
     "output_type": "stream",
     "text": [
      "{\"'a'\": 2, \"'b'\": 5}\n"
     ]
    }
   ],
   "source": [
    "#ques\n",
    "d={}\n",
    "for i in range(1,3):\n",
    "    key=input()\n",
    "    value=int(input())\n",
    "    d[key]=value\n",
    "print(d)    \n",
    "    "
   ]
  },
  {
   "cell_type": "code",
   "execution_count": 50,
   "metadata": {},
   "outputs": [
    {
     "name": "stdout",
     "output_type": "stream",
     "text": [
      "{'Cierra Vega': (6.2, 70), 'Kierra Gentry': (6.0, 78)}\n"
     ]
    }
   ],
   "source": [
    "l={'Cierra Vega': (6.2, 70), 'Alden Cantrell': (5.9, 65), 'Kierra Gentry': (6.0, 78), 'Pierre Cox': (5.8, 66)}\n",
    "result=dict(filter(lambda x:x[1][0]>=6 and x[1][1]>=70,l.items()))\n",
    "print(result)    "
   ]
  }
 ],
 "metadata": {
  "kernelspec": {
   "display_name": "Python 3",
   "language": "python",
   "name": "python3"
  },
  "language_info": {
   "codemirror_mode": {
    "name": "ipython",
    "version": 3
   },
   "file_extension": ".py",
   "mimetype": "text/x-python",
   "name": "python",
   "nbconvert_exporter": "python",
   "pygments_lexer": "ipython3",
   "version": "3.11.4"
  },
  "orig_nbformat": 4
 },
 "nbformat": 4,
 "nbformat_minor": 2
}
