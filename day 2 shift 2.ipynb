{
 "cells": [
  {
   "cell_type": "code",
   "execution_count": 9,
   "source": [
    "n1=int(input())\n",
    "n2=int(input())\n",
    "n3=int(input())\n",
    "if(n1<=n2 and n1<=n3):\n",
    "    if(n2<=n3):\n",
    "        print(n1,n2,n3)\n",
    "    else:\n",
    "        print(n1,n3,n2)\n",
    "elif(n2<=n1 and n2<=n3):\n",
    "    if(n1<=n3):\n",
    "        print(n2,n2,n3)\n",
    "    else:\n",
    "        print(n2,n3,n1)    \n",
    "else:    \n",
    "    if(n1<n2):\n",
    "        print(n3,n1,n2)\n",
    "    else:\n",
    "        print(n3,n2,n1)    \n",
    ""
   ],
   "outputs": [
    {
     "output_type": "stream",
     "name": "stdout",
     "text": [
      "2 4 90\n"
     ]
    }
   ],
   "metadata": {}
  },
  {
   "cell_type": "code",
   "execution_count": 13,
   "source": [
    "#largest number\n",
    "n1=int(input())\n",
    "n2=int(input())\n",
    "n3=int(input())\n",
    "if(n1>=n2):\n",
    "    if(n1>=n3):\n",
    "        print(n1)\n",
    "elif(n2>=n1):\n",
    "    if(n2>=n3):\n",
    "        print(n2)\n",
    "else:\n",
    "    print(n3)              "
   ],
   "outputs": [
    {
     "output_type": "stream",
     "name": "stdout",
     "text": [
      "9\n"
     ]
    }
   ],
   "metadata": {}
  },
  {
   "cell_type": "code",
   "execution_count": 14,
   "source": [
    "#largest number\n",
    "n1=int(input())\n",
    "n2=int(input())\n",
    "n3=int(input())\n",
    "if(n1>=n2):\n",
    "    if(n1>=n3):\n",
    "        print(n1)\n",
    "elif(n2>=n1):\n",
    "    if(n2>=n3):\n",
    "        print(n2)\n",
    "else:\n",
    "    print(n3)              "
   ],
   "outputs": [
    {
     "output_type": "stream",
     "name": "stdout",
     "text": [
      "8\n"
     ]
    }
   ],
   "metadata": {}
  },
  {
   "cell_type": "code",
   "execution_count": 15,
   "source": [
    "for i in range(1,21):\n",
    "    print(i)"
   ],
   "outputs": [
    {
     "output_type": "stream",
     "name": "stdout",
     "text": [
      "1\n",
      "2\n",
      "3\n",
      "4\n",
      "5\n",
      "6\n",
      "7\n",
      "8\n",
      "9\n",
      "10\n",
      "11\n",
      "12\n",
      "13\n",
      "14\n",
      "15\n",
      "16\n",
      "17\n",
      "18\n",
      "19\n",
      "20\n"
     ]
    }
   ],
   "metadata": {}
  },
  {
   "cell_type": "code",
   "execution_count": 16,
   "source": [
    "for i in range(10,21):\n",
    "    if((i%2)==0):\n",
    "        print(i)"
   ],
   "outputs": [
    {
     "output_type": "stream",
     "name": "stdout",
     "text": [
      "10\n",
      "12\n",
      "14\n",
      "16\n",
      "18\n",
      "20\n"
     ]
    }
   ],
   "metadata": {}
  },
  {
   "cell_type": "code",
   "execution_count": 19,
   "source": [
    "e=o=0\n",
    "for i in range(10,21):\n",
    "    if((i%2)==0):\n",
    "        e+=i\n",
    "    else:\n",
    "        o+=i \n",
    "print(\"sum of even=\",e) \n",
    "print(\"sum of odd=\",o)                 "
   ],
   "outputs": [
    {
     "output_type": "stream",
     "name": "stdout",
     "text": [
      "sum of even= 90\n",
      "sum of odd= 75\n"
     ]
    }
   ],
   "metadata": {}
  },
  {
   "cell_type": "code",
   "execution_count": 20,
   "source": [
    "n=int(input())\n",
    "f=1\n",
    "for i in range(n,0,-1):\n",
    "    f*=i\n",
    "print(f)"
   ],
   "outputs": [
    {
     "output_type": "stream",
     "name": "stdout",
     "text": [
      "6\n"
     ]
    }
   ],
   "metadata": {}
  },
  {
   "cell_type": "code",
   "execution_count": 21,
   "source": [
    "#fibonacci series\n",
    "a,b=0,1\n",
    "print(a,b)\n",
    "for i in range(1,11):\n",
    "    c=a+b\n",
    "    print(c)\n",
    "    a=b\n",
    "    b=c\n",
    ""
   ],
   "outputs": [
    {
     "output_type": "stream",
     "name": "stdout",
     "text": [
      "0 1\n",
      "1\n",
      "2\n",
      "3\n",
      "5\n",
      "8\n",
      "13\n",
      "21\n",
      "34\n",
      "55\n",
      "89\n"
     ]
    }
   ],
   "metadata": {}
  },
  {
   "cell_type": "code",
   "execution_count": 22,
   "source": [
    "#fibonacci series\n",
    "a,b=0,1\n",
    "print(a)\n",
    "print(b)\n",
    "for i in range(1,11):\n",
    "    c=a+b\n",
    "    print(c)\n",
    "    a=b\n",
    "    b=c\n",
    ""
   ],
   "outputs": [
    {
     "output_type": "stream",
     "name": "stdout",
     "text": [
      "0\n",
      "1\n",
      "1\n",
      "2\n",
      "3\n",
      "5\n",
      "8\n",
      "13\n",
      "21\n",
      "34\n",
      "55\n",
      "89\n"
     ]
    }
   ],
   "metadata": {}
  },
  {
   "cell_type": "code",
   "execution_count": 23,
   "source": [
    "n=int(input())\n",
    "for i in range(1,n+1):\n",
    "    a=i\n",
    "    for j in range(a,0,-1):\n",
    "        f*=j\n",
    "    c=1/f\n",
    "print(c)        "
   ],
   "outputs": [
    {
     "output_type": "stream",
     "name": "stdout",
     "text": [
      "0.0005787037037037037\n"
     ]
    }
   ],
   "metadata": {}
  },
  {
   "cell_type": "code",
   "execution_count": 24,
   "source": [
    "n=int(input())\n",
    "c,f=0,1\n",
    "for i in range(1,n+1):\n",
    "    a=i\n",
    "    for j in range(a,0,-1):\n",
    "        f*=j\n",
    "    c=1/f\n",
    "print(c)        "
   ],
   "outputs": [
    {
     "output_type": "stream",
     "name": "stdout",
     "text": [
      "0.08333333333333333\n"
     ]
    }
   ],
   "metadata": {}
  },
  {
   "cell_type": "code",
   "execution_count": 25,
   "source": [
    "n=int(input())\n",
    "c,f=0,1\n",
    "for i in range(1,n+1):\n",
    "    a=i\n",
    "    f=1\n",
    "    for j in range(a,0,-1):\n",
    "        f*=j\n",
    "    c=1/f\n",
    "print(c)        "
   ],
   "outputs": [
    {
     "output_type": "stream",
     "name": "stdout",
     "text": [
      "2.48015873015873e-05\n"
     ]
    }
   ],
   "metadata": {}
  },
  {
   "cell_type": "code",
   "execution_count": 26,
   "source": [
    "n=int(input())\n",
    "c,f=0,1\n",
    "for i in range(1,n+1):\n",
    "    a=i\n",
    "    f=1\n",
    "    for j in range(a,0,-1):\n",
    "        f*=j\n",
    "    c=1/f\n",
    "print(c)        "
   ],
   "outputs": [
    {
     "output_type": "stream",
     "name": "stdout",
     "text": [
      "0.16666666666666666\n"
     ]
    }
   ],
   "metadata": {}
  },
  {
   "cell_type": "code",
   "execution_count": 27,
   "source": [
    "n=int(input())\n",
    "c,f=0,1\n",
    "for i in range(1,n+1):\n",
    "    a=i\n",
    "    f=1\n",
    "    for j in range(a,0,-1):\n",
    "        f*=j\n",
    "    c+=1/f\n",
    "print(c)        "
   ],
   "outputs": [
    {
     "output_type": "stream",
     "name": "stdout",
     "text": [
      "1.6666666666666667\n"
     ]
    }
   ],
   "metadata": {}
  },
  {
   "cell_type": "code",
   "execution_count": 28,
   "source": [
    "n=int(input())\n",
    "c,f=0,1\n",
    "for i in range(1,n+1):\n",
    "    f=1\n",
    "    for j in range(i,0,-1):\n",
    "        f*=j\n",
    "    c+=1/f\n",
    "print(c)        "
   ],
   "outputs": [
    {
     "output_type": "stream",
     "name": "stdout",
     "text": [
      "1.6666666666666667\n"
     ]
    }
   ],
   "metadata": {}
  }
 ],
 "nbformat": 4,
 "nbformat_minor": 2,
 "metadata": {
  "language_info": {
   "codemirror_mode": {
    "name": "ipython",
    "version": 3
   },
   "file_extension": ".py",
   "mimetype": "text/x-python",
   "name": "python",
   "nbconvert_exporter": "python",
   "pygments_lexer": "ipython3",
   "version": 3
  },
  "orig_nbformat": 4
 }
}