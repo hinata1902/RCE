{
 "cells": [
  {
   "cell_type": "code",
   "execution_count": 62,
   "source": [
    "#emi\n",
    "p=int(input(\"enter principle\"))\n",
    "r=int(input(\"enter rate\"))\n",
    "n=int(input(\"enter number of times interest is applied\"))\n",
    "emi=p*r*(1+r)**n/((1+r)**(n-1))\n",
    "print(\"emi=\",emi)"
   ],
   "outputs": [
    {
     "output_type": "stream",
     "name": "stdout",
     "text": [
      "emi= 55000.0\n"
     ]
    }
   ],
   "metadata": {}
  }
 ],
 "nbformat": 4,
 "nbformat_minor": 2,
 "metadata": {
  "language_info": {
   "codemirror_mode": {
    "name": "ipython",
    "version": 3
   },
   "file_extension": ".py",
   "mimetype": "text/x-python",
   "name": "python",
   "nbconvert_exporter": "python",
   "pygments_lexer": "ipython3",
   "version": 3
  },
  "orig_nbformat": 4
 }
}