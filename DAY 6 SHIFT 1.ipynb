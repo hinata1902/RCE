{
 "cells": [
  {
   "cell_type": "code",
   "execution_count": 1,
   "source": [
    "#file\n",
    "file=open(\"/Users/admin/Desktop/vap workshop/DAY 6/TEXT CHECK.txt\")\n",
    "if(file):\n",
    "    print(\"exist\")\n",
    "else:\n",
    "    print(\"do not exist\")\n",
    ""
   ],
   "outputs": [
    {
     "output_type": "stream",
     "name": "stdout",
     "text": [
      "exist\n"
     ]
    }
   ],
   "metadata": {}
  },
  {
   "cell_type": "code",
   "execution_count": 2,
   "source": [
    "#file\n",
    "file=open(\"/Users/admin/Desktop/vap workshop/DAY 6/TEXT CHECK.txt\",\"r\")\n",
    "print(file.read())\n",
    ""
   ],
   "outputs": [
    {
     "output_type": "stream",
     "name": "stdout",
     "text": [
      "{\\rtf1\\ansi\\ansicpg1252\\cocoartf2513\n",
      "\\cocoatextscaling0\\cocoaplatform0{\\fonttbl\\f0\\fswiss\\fcharset0 Helvetica;}\n",
      "{\\colortbl;\\red255\\green255\\blue255;}\n",
      "{\\*\\expandedcolortbl;;}\n",
      "\\paperw11900\\paperh16840\\margl1440\\margr1440\\vieww25400\\viewh16000\\viewkind0\n",
      "\\pard\\tx566\\tx1133\\tx1700\\tx2267\\tx2834\\tx3401\\tx3968\\tx4535\\tx5102\\tx5669\\tx6236\\tx6803\\pardirnatural\\partightenfactor0\n",
      "\n",
      "\\f0\\fs24 \\cf0 THIS IS A FILE CHECK\\\n",
      "High}\n"
     ]
    }
   ],
   "metadata": {}
  },
  {
   "cell_type": "code",
   "execution_count": 3,
   "source": [
    "#file\n",
    "file=open(\"/Users/admin/Desktop/vap workshop/DAY 6/TEXT CHECK.txt\",\"r\")\n",
    "print(file.read(10))\n",
    ""
   ],
   "outputs": [
    {
     "output_type": "stream",
     "name": "stdout",
     "text": [
      "{\\rtf1\\ans\n"
     ]
    }
   ],
   "metadata": {}
  },
  {
   "cell_type": "code",
   "execution_count": 4,
   "source": [
    "#file\n",
    "file=open(\"/Users/admin/Desktop/vap workshop/DAY 6/TEXT CHECK.txt\",\"r\")\n",
    "print(file.readline())\n",
    ""
   ],
   "outputs": [
    {
     "output_type": "stream",
     "name": "stdout",
     "text": [
      "{\\rtf1\\ansi\\ansicpg1252\\cocoartf2513\n",
      "\n"
     ]
    }
   ],
   "metadata": {}
  },
  {
   "cell_type": "code",
   "execution_count": 5,
   "source": [
    "#file\n",
    "file=open(\"/Users/admin/Desktop/vap workshop/DAY 6/TEXT CHECK.txt\",\"r\")\n",
    "print(file.readlines())\n",
    ""
   ],
   "outputs": [
    {
     "output_type": "error",
     "ename": "FileNotFoundError",
     "evalue": "[Errno 2] No such file or directory: '/Users/admin/Desktop/vap workshop/DAY 6/TEXT CHECK.txt'",
     "traceback": [
      "\u001b[0;31m---------------------------------------------------------------------------\u001b[0m",
      "\u001b[0;31mFileNotFoundError\u001b[0m                         Traceback (most recent call last)",
      "Cell \u001b[0;32mIn[5], line 2\u001b[0m\n\u001b[1;32m      1\u001b[0m \u001b[39m#file\u001b[39;00m\n\u001b[0;32m----> 2\u001b[0m file\u001b[39m=\u001b[39m\u001b[39mopen\u001b[39;49m(\u001b[39m\"\u001b[39;49m\u001b[39m/Users/admin/Desktop/vap workshop/DAY 6/TEXT CHECK.txt\u001b[39;49m\u001b[39m\"\u001b[39;49m,\u001b[39m\"\u001b[39;49m\u001b[39mr\u001b[39;49m\u001b[39m\"\u001b[39;49m)\n\u001b[1;32m      3\u001b[0m \u001b[39mprint\u001b[39m(file\u001b[39m.\u001b[39mreadlines())\n",
      "File \u001b[0;32m~/Library/Python/3.11/lib/python/site-packages/IPython/core/interactiveshell.py:284\u001b[0m, in \u001b[0;36m_modified_open\u001b[0;34m(file, *args, **kwargs)\u001b[0m\n\u001b[1;32m    <a href='file:///Users/admin/Library/Python/3.11/lib/python/site-packages/IPython/core/interactiveshell.py?line=276'>277</a>\u001b[0m \u001b[39mif\u001b[39;00m file \u001b[39min\u001b[39;00m {\u001b[39m0\u001b[39m, \u001b[39m1\u001b[39m, \u001b[39m2\u001b[39m}:\n\u001b[1;32m    <a href='file:///Users/admin/Library/Python/3.11/lib/python/site-packages/IPython/core/interactiveshell.py?line=277'>278</a>\u001b[0m     \u001b[39mraise\u001b[39;00m \u001b[39mValueError\u001b[39;00m(\n\u001b[1;32m    <a href='file:///Users/admin/Library/Python/3.11/lib/python/site-packages/IPython/core/interactiveshell.py?line=278'>279</a>\u001b[0m         \u001b[39mf\u001b[39m\u001b[39m\"\u001b[39m\u001b[39mIPython won\u001b[39m\u001b[39m'\u001b[39m\u001b[39mt let you open fd=\u001b[39m\u001b[39m{\u001b[39;00mfile\u001b[39m}\u001b[39;00m\u001b[39m by default \u001b[39m\u001b[39m\"\u001b[39m\n\u001b[1;32m    <a href='file:///Users/admin/Library/Python/3.11/lib/python/site-packages/IPython/core/interactiveshell.py?line=279'>280</a>\u001b[0m         \u001b[39m\"\u001b[39m\u001b[39mas it is likely to crash IPython. If you know what you are doing, \u001b[39m\u001b[39m\"\u001b[39m\n\u001b[1;32m    <a href='file:///Users/admin/Library/Python/3.11/lib/python/site-packages/IPython/core/interactiveshell.py?line=280'>281</a>\u001b[0m         \u001b[39m\"\u001b[39m\u001b[39myou can use builtins\u001b[39m\u001b[39m'\u001b[39m\u001b[39m open.\u001b[39m\u001b[39m\"\u001b[39m\n\u001b[1;32m    <a href='file:///Users/admin/Library/Python/3.11/lib/python/site-packages/IPython/core/interactiveshell.py?line=281'>282</a>\u001b[0m     )\n\u001b[0;32m--> <a href='file:///Users/admin/Library/Python/3.11/lib/python/site-packages/IPython/core/interactiveshell.py?line=283'>284</a>\u001b[0m \u001b[39mreturn\u001b[39;00m io_open(file, \u001b[39m*\u001b[39;49margs, \u001b[39m*\u001b[39;49m\u001b[39m*\u001b[39;49mkwargs)\n",
      "\u001b[0;31mFileNotFoundError\u001b[0m: [Errno 2] No such file or directory: '/Users/admin/Desktop/vap workshop/DAY 6/TEXT CHECK.txt'"
     ]
    }
   ],
   "metadata": {}
  },
  {
   "cell_type": "code",
   "execution_count": 6,
   "source": [
    "#file\n",
    "file=open(\"//Users//admin//Desktop/vap workshop/DAY 6/TEXT CHECK.txt\",\"r\")\n",
    "print(file.readlines())\n",
    ""
   ],
   "outputs": [
    {
     "output_type": "error",
     "ename": "FileNotFoundError",
     "evalue": "[Errno 2] No such file or directory: '//Users//admin//Desktop/vap workshop/DAY 6/TEXT CHECK.txt'",
     "traceback": [
      "\u001b[0;31m---------------------------------------------------------------------------\u001b[0m",
      "\u001b[0;31mFileNotFoundError\u001b[0m                         Traceback (most recent call last)",
      "Cell \u001b[0;32mIn[6], line 2\u001b[0m\n\u001b[1;32m      1\u001b[0m \u001b[39m#file\u001b[39;00m\n\u001b[0;32m----> 2\u001b[0m file\u001b[39m=\u001b[39m\u001b[39mopen\u001b[39;49m(\u001b[39m\"\u001b[39;49m\u001b[39m//Users//admin//Desktop/vap workshop/DAY 6/TEXT CHECK.txt\u001b[39;49m\u001b[39m\"\u001b[39;49m,\u001b[39m\"\u001b[39;49m\u001b[39mr\u001b[39;49m\u001b[39m\"\u001b[39;49m)\n\u001b[1;32m      3\u001b[0m \u001b[39mprint\u001b[39m(file\u001b[39m.\u001b[39mreadlines())\n",
      "File \u001b[0;32m~/Library/Python/3.11/lib/python/site-packages/IPython/core/interactiveshell.py:284\u001b[0m, in \u001b[0;36m_modified_open\u001b[0;34m(file, *args, **kwargs)\u001b[0m\n\u001b[1;32m    <a href='file:///Users/admin/Library/Python/3.11/lib/python/site-packages/IPython/core/interactiveshell.py?line=276'>277</a>\u001b[0m \u001b[39mif\u001b[39;00m file \u001b[39min\u001b[39;00m {\u001b[39m0\u001b[39m, \u001b[39m1\u001b[39m, \u001b[39m2\u001b[39m}:\n\u001b[1;32m    <a href='file:///Users/admin/Library/Python/3.11/lib/python/site-packages/IPython/core/interactiveshell.py?line=277'>278</a>\u001b[0m     \u001b[39mraise\u001b[39;00m \u001b[39mValueError\u001b[39;00m(\n\u001b[1;32m    <a href='file:///Users/admin/Library/Python/3.11/lib/python/site-packages/IPython/core/interactiveshell.py?line=278'>279</a>\u001b[0m         \u001b[39mf\u001b[39m\u001b[39m\"\u001b[39m\u001b[39mIPython won\u001b[39m\u001b[39m'\u001b[39m\u001b[39mt let you open fd=\u001b[39m\u001b[39m{\u001b[39;00mfile\u001b[39m}\u001b[39;00m\u001b[39m by default \u001b[39m\u001b[39m\"\u001b[39m\n\u001b[1;32m    <a href='file:///Users/admin/Library/Python/3.11/lib/python/site-packages/IPython/core/interactiveshell.py?line=279'>280</a>\u001b[0m         \u001b[39m\"\u001b[39m\u001b[39mas it is likely to crash IPython. If you know what you are doing, \u001b[39m\u001b[39m\"\u001b[39m\n\u001b[1;32m    <a href='file:///Users/admin/Library/Python/3.11/lib/python/site-packages/IPython/core/interactiveshell.py?line=280'>281</a>\u001b[0m         \u001b[39m\"\u001b[39m\u001b[39myou can use builtins\u001b[39m\u001b[39m'\u001b[39m\u001b[39m open.\u001b[39m\u001b[39m\"\u001b[39m\n\u001b[1;32m    <a href='file:///Users/admin/Library/Python/3.11/lib/python/site-packages/IPython/core/interactiveshell.py?line=281'>282</a>\u001b[0m     )\n\u001b[0;32m--> <a href='file:///Users/admin/Library/Python/3.11/lib/python/site-packages/IPython/core/interactiveshell.py?line=283'>284</a>\u001b[0m \u001b[39mreturn\u001b[39;00m io_open(file, \u001b[39m*\u001b[39;49margs, \u001b[39m*\u001b[39;49m\u001b[39m*\u001b[39;49mkwargs)\n",
      "\u001b[0;31mFileNotFoundError\u001b[0m: [Errno 2] No such file or directory: '//Users//admin//Desktop/vap workshop/DAY 6/TEXT CHECK.txt'"
     ]
    }
   ],
   "metadata": {}
  },
  {
   "cell_type": "code",
   "execution_count": 7,
   "source": [
    "#file\n",
    "file=open(\"/Users/admin/Desktop/vap workshop/DAY 6/TEXT CHECK.txt\",\"r\")\n",
    "print(file.readlines())\n",
    ""
   ],
   "outputs": [
    {
     "output_type": "stream",
     "name": "stdout",
     "text": [
      "['{\\\\rtf1\\\\ansi\\\\ansicpg1252\\\\cocoartf2513\\n', '\\\\cocoatextscaling0\\\\cocoaplatform0{\\\\fonttbl\\\\f0\\\\fswiss\\\\fcharset0 Helvetica;}\\n', '{\\\\colortbl;\\\\red255\\\\green255\\\\blue255;}\\n', '{\\\\*\\\\expandedcolortbl;;}\\n', '\\\\paperw11900\\\\paperh16840\\\\margl1440\\\\margr1440\\\\vieww25400\\\\viewh16000\\\\viewkind0\\n', '\\\\pard\\\\tx566\\\\tx1133\\\\tx1700\\\\tx2267\\\\tx2834\\\\tx3401\\\\tx3968\\\\tx4535\\\\tx5102\\\\tx5669\\\\tx6236\\\\tx6803\\\\pardirnatural\\\\partightenfactor0\\n', '\\n', '\\\\f0\\\\fs24 \\\\cf0 THIS IS A FILE CHECK\\\\\\n', 'We are doing a workshop of ibm\\\\\\n', \"We are not able to understand file handling\\\\'92s}\"]\n"
     ]
    }
   ],
   "metadata": {}
  },
  {
   "cell_type": "code",
   "execution_count": 8,
   "source": [
    "#file\n",
    "file=open(\"/Users/admin/Desktop/vap workshop/DAY 6/TEXT CHECK.txt\",\"r\")\n",
    "print(file.read(10))\n",
    ""
   ],
   "outputs": [
    {
     "output_type": "stream",
     "name": "stdout",
     "text": [
      "{\\rtf1\\ans\n"
     ]
    }
   ],
   "metadata": {}
  },
  {
   "cell_type": "code",
   "execution_count": 9,
   "source": [
    "#file\n",
    "file=open(\"/Users/admin/Desktop/vap workshop/DAY 6/TEXT CHECK.txt\",\"r\")\n",
    "print(file.read(10))\n",
    ""
   ],
   "outputs": [
    {
     "output_type": "stream",
     "name": "stdout",
     "text": [
      "THIS IS A \n"
     ]
    }
   ],
   "metadata": {}
  },
  {
   "cell_type": "code",
   "execution_count": 10,
   "source": [
    "#file\n",
    "file=open(\"/Users/admin/Desktop/vap workshop/DAY 6/TEXT CHECK.txt\",\"w\")\n",
    "file.write(str(89))\n",
    "file.close()"
   ],
   "outputs": [],
   "metadata": {}
  },
  {
   "cell_type": "code",
   "execution_count": 11,
   "source": [
    "f=open(\"newfile.txt\",\"a\")\n",
    "f.write(\"This is the File Handling\")\n",
    "f.close()\n",
    ""
   ],
   "outputs": [],
   "metadata": {}
  },
  {
   "cell_type": "code",
   "execution_count": 12,
   "source": [
    "f=open(\"newfile.txt\",\"w\")\n",
    "f.write(\"trying to over write through different editor\")\n",
    "f.close()\n",
    ""
   ],
   "outputs": [],
   "metadata": {}
  },
  {
   "cell_type": "code",
   "execution_count": 13,
   "source": [
    "f=open(\"newfile.txt\",\"w\")\n",
    "d={}\n",
    "for i in range(3):\n",
    "    name=input()\n",
    "    marks=int(input())\n",
    "    d.update({name:marks})\n",
    "f.write(str(d))\n",
    "f.close()\n",
    ""
   ],
   "outputs": [],
   "metadata": {}
  },
  {
   "cell_type": "code",
   "execution_count": 14,
   "source": [
    "import os\n",
    "file=open(\"qqq.txt\",\"r+\")\n",
    "file.(0)\n",
    "file.close()\n",
    ""
   ],
   "outputs": [
    {
     "output_type": "error",
     "ename": "SyntaxError",
     "evalue": "invalid syntax (<ipython-input-14-f4d02a6478a6>, line 3)",
     "traceback": [
      "\u001b[0;36m  Cell \u001b[0;32mIn[14], line 3\u001b[0;36m\u001b[0m\n\u001b[0;31m    file.(0)\u001b[0m\n\u001b[0m         ^\u001b[0m\n\u001b[0;31mSyntaxError\u001b[0m\u001b[0;31m:\u001b[0m invalid syntax\n"
     ]
    }
   ],
   "metadata": {}
  },
  {
   "cell_type": "code",
   "execution_count": 15,
   "source": [
    "import os\n",
    "file=open(\"qqq.txt\",\"r+\")\n",
    "file.seek(0)\n",
    "file.close()\n",
    ""
   ],
   "outputs": [
    {
     "output_type": "error",
     "ename": "FileNotFoundError",
     "evalue": "[Errno 2] No such file or directory: 'qqq.txt'",
     "traceback": [
      "\u001b[0;31m---------------------------------------------------------------------------\u001b[0m",
      "\u001b[0;31mFileNotFoundError\u001b[0m                         Traceback (most recent call last)",
      "Cell \u001b[0;32mIn[15], line 2\u001b[0m\n\u001b[1;32m      1\u001b[0m \u001b[39mimport\u001b[39;00m \u001b[39mos\u001b[39;00m\n\u001b[0;32m----> 2\u001b[0m file\u001b[39m=\u001b[39m\u001b[39mopen\u001b[39;49m(\u001b[39m\"\u001b[39;49m\u001b[39mqqq.txt\u001b[39;49m\u001b[39m\"\u001b[39;49m,\u001b[39m\"\u001b[39;49m\u001b[39mr+\u001b[39;49m\u001b[39m\"\u001b[39;49m)\n\u001b[1;32m      3\u001b[0m file\u001b[39m.\u001b[39mseek(\u001b[39m0\u001b[39m)\n\u001b[1;32m      4\u001b[0m file\u001b[39m.\u001b[39mclose()\n",
      "File \u001b[0;32m~/Library/Python/3.11/lib/python/site-packages/IPython/core/interactiveshell.py:284\u001b[0m, in \u001b[0;36m_modified_open\u001b[0;34m(file, *args, **kwargs)\u001b[0m\n\u001b[1;32m    <a href='file:///Users/admin/Library/Python/3.11/lib/python/site-packages/IPython/core/interactiveshell.py?line=276'>277</a>\u001b[0m \u001b[39mif\u001b[39;00m file \u001b[39min\u001b[39;00m {\u001b[39m0\u001b[39m, \u001b[39m1\u001b[39m, \u001b[39m2\u001b[39m}:\n\u001b[1;32m    <a href='file:///Users/admin/Library/Python/3.11/lib/python/site-packages/IPython/core/interactiveshell.py?line=277'>278</a>\u001b[0m     \u001b[39mraise\u001b[39;00m \u001b[39mValueError\u001b[39;00m(\n\u001b[1;32m    <a href='file:///Users/admin/Library/Python/3.11/lib/python/site-packages/IPython/core/interactiveshell.py?line=278'>279</a>\u001b[0m         \u001b[39mf\u001b[39m\u001b[39m\"\u001b[39m\u001b[39mIPython won\u001b[39m\u001b[39m'\u001b[39m\u001b[39mt let you open fd=\u001b[39m\u001b[39m{\u001b[39;00mfile\u001b[39m}\u001b[39;00m\u001b[39m by default \u001b[39m\u001b[39m\"\u001b[39m\n\u001b[1;32m    <a href='file:///Users/admin/Library/Python/3.11/lib/python/site-packages/IPython/core/interactiveshell.py?line=279'>280</a>\u001b[0m         \u001b[39m\"\u001b[39m\u001b[39mas it is likely to crash IPython. If you know what you are doing, \u001b[39m\u001b[39m\"\u001b[39m\n\u001b[1;32m    <a href='file:///Users/admin/Library/Python/3.11/lib/python/site-packages/IPython/core/interactiveshell.py?line=280'>281</a>\u001b[0m         \u001b[39m\"\u001b[39m\u001b[39myou can use builtins\u001b[39m\u001b[39m'\u001b[39m\u001b[39m open.\u001b[39m\u001b[39m\"\u001b[39m\n\u001b[1;32m    <a href='file:///Users/admin/Library/Python/3.11/lib/python/site-packages/IPython/core/interactiveshell.py?line=281'>282</a>\u001b[0m     )\n\u001b[0;32m--> <a href='file:///Users/admin/Library/Python/3.11/lib/python/site-packages/IPython/core/interactiveshell.py?line=283'>284</a>\u001b[0m \u001b[39mreturn\u001b[39;00m io_open(file, \u001b[39m*\u001b[39;49margs, \u001b[39m*\u001b[39;49m\u001b[39m*\u001b[39;49mkwargs)\n",
      "\u001b[0;31mFileNotFoundError\u001b[0m: [Errno 2] No such file or directory: 'qqq.txt'"
     ]
    }
   ],
   "metadata": {}
  }
 ],
 "nbformat": 4,
 "nbformat_minor": 2,
 "metadata": {
  "language_info": {
   "codemirror_mode": {
    "name": "ipython",
    "version": 3
   },
   "file_extension": ".py",
   "mimetype": "text/x-python",
   "name": "python",
   "nbconvert_exporter": "python",
   "pygments_lexer": "ipython3",
   "version": 3
  },
  "orig_nbformat": 4
 }
}