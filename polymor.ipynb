{
 "cells": [
  {
   "cell_type": "code",
   "execution_count": 58,
   "source": [
    "#polymorphism\n",
    "class Shape:\n",
    "    def calc(self):\n",
    "        self.a=10\n",
    "        print(self.a**2)\n",
    "class Circle(Shape):\n",
    "    def calc(self):\n",
    "        super().calc() #calling parent class method\n",
    "        self.r=12\n",
    "        print(3.14*self.r**2)   \n",
    "c=Circle()\n",
    "c.calc()             "
   ],
   "outputs": [
    {
     "output_type": "stream",
     "name": "stdout",
     "text": [
      "100\n",
      "452.16\n"
     ]
    }
   ],
   "metadata": {}
  },
  {
   "cell_type": "code",
   "execution_count": 59,
   "source": [
    "class Calculator:\n",
    "    def calc(self,a=None,b=None):\n",
    "        if(a is not None and b is None):\n",
    "            print(a**2)\n",
    "        elif(a is None and b is not None):\n",
    "            print(b**2)\n",
    "        else:\n",
    "            print(a*b)\n",
    "c=Calculator()\n",
    "c.calc(5)"
   ],
   "outputs": [
    {
     "output_type": "stream",
     "name": "stdout",
     "text": [
      "25\n"
     ]
    }
   ],
   "metadata": {}
  },
  {
   "cell_type": "code",
   "execution_count": 60,
   "source": [
    "class Calculator:\n",
    "    def calc(self,a=None,b=None):\n",
    "        if(a is not None and b is None):\n",
    "            print(a**2)\n",
    "        elif(a is None and b is not None):\n",
    "            print(b**2)\n",
    "        else:\n",
    "            print(a*b)\n",
    "c=Calculator()\n",
    "c.calc(5,2)"
   ],
   "outputs": [
    {
     "output_type": "stream",
     "name": "stdout",
     "text": [
      "10\n"
     ]
    }
   ],
   "metadata": {}
  },
  {
   "cell_type": "code",
   "execution_count": 61,
   "source": [
    "class Calculator:\n",
    "    def calc(self,a=None,b=None):\n",
    "        if(a is not None and b is None):\n",
    "            print(a**2)\n",
    "        elif(a is None and b is not None):\n",
    "            print(b**2)\n",
    "        elif(a is not None and b is not None):\n",
    "            print(a*b)    \n",
    "        else:\n",
    "            print(\"Invalid\")\n",
    "c=Calculator()\n",
    "c.calc(5,2)"
   ],
   "outputs": [
    {
     "output_type": "stream",
     "name": "stdout",
     "text": [
      "10\n"
     ]
    }
   ],
   "metadata": {}
  },
  {
   "cell_type": "code",
   "execution_count": 62,
   "source": [
    "class Calculator:\n",
    "    def calc(self,a=None,b=None):\n",
    "        if(a is not None and b is None):\n",
    "            print(a**2)\n",
    "        elif(a is None and b is not None):\n",
    "            print(b**2)\n",
    "        elif(a is not None and b is not None):\n",
    "            print(a*b)    \n",
    "        else:\n",
    "            print(\"Invalid\")\n",
    "c=Calculator()\n",
    "c.calc()"
   ],
   "outputs": [
    {
     "output_type": "stream",
     "name": "stdout",
     "text": [
      "Invalid\n"
     ]
    }
   ],
   "metadata": {}
  },
  {
   "cell_type": "code",
   "execution_count": 63,
   "source": [
    "class Employee:\n",
    "    def __init__(self):\n",
    "        print(\"Employee constructor\")\n",
    "class Programmer:       \n",
    "        "
   ],
   "outputs": [
    {
     "output_type": "error",
     "ename": "SyntaxError",
     "evalue": "incomplete input (<ipython-input-63-7398026137eb>, line 5)",
     "traceback": [
      "\u001b[0;36m  Cell \u001b[0;32mIn[63], line 5\u001b[0;36m\u001b[0m\n\u001b[0;31m    \u001b[0m\n\u001b[0m    ^\u001b[0m\n\u001b[0;31mSyntaxError\u001b[0m\u001b[0;31m:\u001b[0m incomplete input\n"
     ]
    }
   ],
   "metadata": {}
  },
  {
   "cell_type": "code",
   "execution_count": 64,
   "source": [
    "class Employee:\n",
    "    def __init__(self):\n",
    "        print(\"Employee constructor\")\n",
    "class Programmer:       \n",
    "        def __init__(self):\n",
    "            super().__init__()\n",
    "            print(\"Programmer constructor\")\n",
    "p=Programmer()\n",
    ""
   ],
   "outputs": [
    {
     "output_type": "stream",
     "name": "stdout",
     "text": [
      "Programmer constructor\n"
     ]
    }
   ],
   "metadata": {}
  },
  {
   "cell_type": "code",
   "execution_count": 65,
   "source": [
    "class Employee:\n",
    "    def __init__(self):\n",
    "        print(\"Employee constructor\")\n",
    "class Programmer(Employee):       \n",
    "        def __init__(self):\n",
    "            super().__init__()\n",
    "            print(\"Programmer constructor\")\n",
    "p=Programmer()\n",
    ""
   ],
   "outputs": [
    {
     "output_type": "stream",
     "name": "stdout",
     "text": [
      "Employee constructor\n",
      "Programmer constructor\n"
     ]
    }
   ],
   "metadata": {}
  },
  {
   "cell_type": "code",
   "execution_count": 66,
   "source": [
    "class Employee:\n",
    "    def __init__(self,name):\n",
    "        print(name)\n",
    "class Programmer(Employee):       \n",
    "        def __init__(self):\n",
    "            super().__init__(\"john\")\n",
    "            print(\"Programmer constructor\")\n",
    "p=Programmer()\n",
    ""
   ],
   "outputs": [
    {
     "output_type": "stream",
     "name": "stdout",
     "text": [
      "john\n",
      "Programmer constructor\n"
     ]
    }
   ],
   "metadata": {}
  },
  {
   "cell_type": "code",
   "execution_count": 67,
   "source": [
    "class Employee:\n",
    "    def __init__(self,name):\n",
    "        print(name)\n",
    "class Worker:\n",
    "    def __init__(self,name):\n",
    "        print(name)\n",
    "\n",
    "class Programmer(Employee,Worker):       \n",
    "        def __init__(self):\n",
    "            Employee.__init__(self,\"john\")\n",
    "            Worker.__init__(self,\"alfred\")\n",
    "            print(\"Programmer constructor\")\n",
    "p=Programmer()\n",
    ""
   ],
   "outputs": [
    {
     "output_type": "stream",
     "name": "stdout",
     "text": [
      "john\n",
      "alfred\n",
      "Programmer constructor\n"
     ]
    }
   ],
   "metadata": {}
  },
  {
   "cell_type": "code",
   "execution_count": 68,
   "source": [
    "class Employee:\n",
    "    def __init__(self,name):\n",
    "        print(name)\n",
    "class Worker:\n",
    "    def __init__(self,name):\n",
    "        print(name)\n",
    "\n",
    "class Programmer(Employee,Worker):       \n",
    "        def __ini(t__(self):\n",
    "            super().__init__(self,\"john\")\n",
    "            print(\"Programmer constructor\")\n",
    "p=Programmer()\n",
    ""
   ],
   "outputs": [
    {
     "output_type": "error",
     "ename": "SyntaxError",
     "evalue": "invalid syntax (<ipython-input-68-215ca88d19e8>, line 9)",
     "traceback": [
      "\u001b[0;36m  Cell \u001b[0;32mIn[68], line 9\u001b[0;36m\u001b[0m\n\u001b[0;31m    def __ini(t__(self):\u001b[0m\n\u001b[0m                 ^\u001b[0m\n\u001b[0;31mSyntaxError\u001b[0m\u001b[0;31m:\u001b[0m invalid syntax\n"
     ]
    }
   ],
   "metadata": {}
  },
  {
   "cell_type": "code",
   "execution_count": 69,
   "source": [
    "class Employee:\n",
    "    def __init__(self,name):\n",
    "        print(name)\n",
    "class Worker:\n",
    "    def __init__(self,name):\n",
    "        print(name)\n",
    "\n",
    "class Programmer(Employee,Worker):       \n",
    "        def __init__(self):\n",
    "            super().__init__(self,\"john\")\n",
    "            print(\"Programmer constructor\")\n",
    "p=Programmer()\n",
    ""
   ],
   "outputs": [
    {
     "output_type": "error",
     "ename": "TypeError",
     "evalue": "Employee.__init__() takes 2 positional arguments but 3 were given",
     "traceback": [
      "\u001b[0;31m---------------------------------------------------------------------------\u001b[0m",
      "\u001b[0;31mTypeError\u001b[0m                                 Traceback (most recent call last)",
      "Cell \u001b[0;32mIn[69], line 12\u001b[0m\n\u001b[1;32m     10\u001b[0m             \u001b[39msuper\u001b[39m()\u001b[39m.\u001b[39m\u001b[39m__init__\u001b[39m(\u001b[39mself\u001b[39m,\u001b[39m\"\u001b[39m\u001b[39mjohn\u001b[39m\u001b[39m\"\u001b[39m)\n\u001b[1;32m     11\u001b[0m             \u001b[39mprint\u001b[39m(\u001b[39m\"\u001b[39m\u001b[39mProgrammer constructor\u001b[39m\u001b[39m\"\u001b[39m)\n\u001b[0;32m---> 12\u001b[0m p\u001b[39m=\u001b[39mProgrammer()\n",
      "Cell \u001b[0;32mIn[69], line 10\u001b[0m, in \u001b[0;36mProgrammer.__init__\u001b[0;34m(self)\u001b[0m\n\u001b[1;32m      9\u001b[0m \u001b[39mdef\u001b[39;00m \u001b[39m__init__\u001b[39m(\u001b[39mself\u001b[39m):\n\u001b[0;32m---> 10\u001b[0m     \u001b[39msuper\u001b[39;49m()\u001b[39m.\u001b[39;49m\u001b[39m__init__\u001b[39;49m(\u001b[39mself\u001b[39;49m,\u001b[39m\"\u001b[39;49m\u001b[39mjohn\u001b[39;49m\u001b[39m\"\u001b[39;49m)\n\u001b[1;32m     11\u001b[0m     \u001b[39mprint\u001b[39m(\u001b[39m\"\u001b[39m\u001b[39mProgrammer constructor\u001b[39m\u001b[39m\"\u001b[39m)\n",
      "\u001b[0;31mTypeError\u001b[0m: Employee.__init__() takes 2 positional arguments but 3 were given"
     ]
    }
   ],
   "metadata": {}
  }
 ],
 "nbformat": 4,
 "nbformat_minor": 2,
 "metadata": {
  "language_info": {
   "codemirror_mode": {
    "name": "ipython",
    "version": 3
   },
   "file_extension": ".py",
   "mimetype": "text/x-python",
   "name": "python",
   "nbconvert_exporter": "python",
   "pygments_lexer": "ipython3",
   "version": 3
  },
  "orig_nbformat": 4
 }
}