{
 "cells": [
  {
   "cell_type": "code",
   "execution_count": 69,
   "source": [
    "#area of triangle\n",
    "from math import *\n",
    "a=int(input())\n",
    "b=int(input())\n",
    "c=int(input())\n",
    "s=(a+b+c)/2\n",
    "area=sqrt(s*(s-a)*(s-b)*(s-c))\n",
    "print(\"area=\",area)"
   ],
   "outputs": [
    {
     "output_type": "stream",
     "name": "stdout",
     "text": [
      "area= 2.9047375096555625\n"
     ]
    }
   ],
   "metadata": {}
  },
  {
   "cell_type": "code",
   "execution_count": 70,
   "source": [
    "#emi\n",
    "from math import *\n",
    "p=int(input(\"enter principle\"))\n",
    "r=int(input(\"enter rate\"))\n",
    "n=int(input(\"enter number of times interest is applied\"))\n",
    "emi=pow(p*r*(1+r),n)/pow((1+r),(n-1))\n",
    "print(\"emi=\",emi)"
   ],
   "outputs": [
    {
     "output_type": "stream",
     "name": "stdout",
     "text": [
      "emi= 1375000000000.0\n"
     ]
    }
   ],
   "metadata": {}
  },
  {
   "cell_type": "code",
   "execution_count": 71,
   "source": [
    "#ques2 of ppt\n",
    "t=int(input())\n",
    "min=t//60\n",
    "sec=t%60\n",
    "print(\"min=\",min,\"sec=\",sec)"
   ],
   "outputs": [
    {
     "output_type": "stream",
     "name": "stdout",
     "text": [
      "min= 3 sec= 20\n"
     ]
    }
   ],
   "metadata": {}
  }
 ],
 "nbformat": 4,
 "nbformat_minor": 2,
 "metadata": {
  "language_info": {
   "codemirror_mode": {
    "name": "ipython",
    "version": 3
   },
   "file_extension": ".py",
   "mimetype": "text/x-python",
   "name": "python",
   "nbconvert_exporter": "python",
   "pygments_lexer": "ipython3",
   "version": 3
  },
  "orig_nbformat": 4
 }
}