{
 "cells": [
  {
   "cell_type": "code",
   "execution_count": 48,
   "source": [
    "#printing question\n",
    "a=5\n",
    "print(a)\n",
    "print(a*2)\n",
    "print((a*2)-1)\n",
    "print(\"modified to\")\n",
    "print(a,a*2,(a*2)-1,sep=\"@\")\n",
    ""
   ],
   "outputs": [
    {
     "output_type": "stream",
     "name": "stdout",
     "text": [
      "5\n",
      "10\n",
      "9\n",
      "modified to\n",
      "5@10@9\n"
     ]
    }
   ],
   "metadata": {}
  }
 ],
 "nbformat": 4,
 "nbformat_minor": 2,
 "metadata": {
  "language_info": {
   "codemirror_mode": {
    "name": "ipython",
    "version": 3
   },
   "file_extension": ".py",
   "mimetype": "text/x-python",
   "name": "python",
   "nbconvert_exporter": "python",
   "pygments_lexer": "ipython3",
   "version": 3
  },
  "orig_nbformat": 4
 }
}