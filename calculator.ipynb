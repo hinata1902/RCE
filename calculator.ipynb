{
 "cells": [
  {
   "cell_type": "code",
   "execution_count": 1,
   "source": [
    "ch=(input(\"enter operator\"))\n",
    "a=int(input(\"enter num 1\"))\n",
    "b=int(input(\"enter num 2\"))\n",
    "\n",
    "if(ch=='+'):\n",
    " c=a+b\n",
    " print(c)\n",
    "elif(ch=='-'):\n",
    " c=a-b\n",
    " print(c)\n",
    "elif(ch=='*'):\n",
    " c=a*b\n",
    " print(c)\n",
    "elif(ch=='/'):\n",
    " c=a/b\n",
    " print(c)\n",
    "elif(ch=='%'):\n",
    " c=a%b\n",
    " print(c)\n",
    "else:\n",
    " print(\"INVALID INPUT\")\n",
    ""
   ],
   "outputs": [
    {
     "output_type": "stream",
     "name": "stdout",
     "text": [
      "13\n"
     ]
    }
   ],
   "metadata": {}
  }
 ],
 "nbformat": 4,
 "nbformat_minor": 2,
 "metadata": {
  "language_info": {
   "codemirror_mode": {
    "name": "ipython",
    "version": 3
   },
   "file_extension": ".py",
   "mimetype": "text/x-python",
   "name": "python",
   "nbconvert_exporter": "python",
   "pygments_lexer": "ipython3",
   "version": 3
  },
  "orig_nbformat": 4
 }
}